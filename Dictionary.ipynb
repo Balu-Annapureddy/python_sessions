{
 "cells": [
  {
   "cell_type": "code",
   "execution_count": 2,
   "id": "a1c3ca0e-1ed2-46a4-875c-af10601a2e53",
   "metadata": {},
   "outputs": [
    {
     "name": "stdout",
     "output_type": "stream",
     "text": [
      "ram 25\n",
      "raheem 23\n",
      "robert 45\n"
     ]
    }
   ],
   "source": [
    "list1 = ['ram','raheem','robert']\n",
    "list2 = [25,23,45]\n",
    "for i,j in zip(list1,list2):\n",
    "    print(i,j)"
   ]
  },
  {
   "cell_type": "code",
   "execution_count": 6,
   "id": "8bf83fe8-7c43-4d0a-869d-22af2f5e076c",
   "metadata": {},
   "outputs": [
    {
     "data": {
      "text/plain": [
       "{'ram': 25, 'raheem': 30, 'robert': 45}"
      ]
     },
     "execution_count": 6,
     "metadata": {},
     "output_type": "execute_result"
    }
   ],
   "source": [
    "d1 = {'ram':25,\n",
    "'raheem':30,\n",
    "'robert':45}    #dictionary {key:value}  here key,value can be any type\n",
    "d1"
   ]
  },
  {
   "cell_type": "code",
   "execution_count": 12,
   "id": "9f841f44-94b9-473e-904b-93c33e11aa1e",
   "metadata": {},
   "outputs": [
    {
     "data": {
      "text/plain": [
       "{(1, 3, 5): 'odd', (2, 4, 6): 'even'}"
      ]
     },
     "execution_count": 12,
     "metadata": {},
     "output_type": "execute_result"
    }
   ],
   "source": [
    "d2 = {(1,3,5):'odd',(2,4,6):'even'}   #list does not work tuple only works in the dictionary\n",
    "d2"
   ]
  },
  {
   "cell_type": "code",
   "execution_count": 16,
   "id": "56dc8c76-bfea-416e-8305-8ce4a175d7e8",
   "metadata": {},
   "outputs": [
    {
     "name": "stdout",
     "output_type": "stream",
     "text": [
      "1\n",
      "2\n",
      "4\n",
      "5\n"
     ]
    }
   ],
   "source": [
    "a,b=[1,2]\n",
    "c,d=(4,5)\n",
    "print(a)\n",
    "print(b)\n",
    "print(c)\n",
    "print(d)"
   ]
  },
  {
   "cell_type": "code",
   "execution_count": 18,
   "id": "8f8a3688-b4fe-41f5-8017-a12f77b99f8a",
   "metadata": {},
   "outputs": [
    {
     "name": "stdout",
     "output_type": "stream",
     "text": [
      "(1, 2, 3)\n"
     ]
    }
   ],
   "source": [
    "a=1,2,3\n",
    "print(a)"
   ]
  },
  {
   "cell_type": "code",
   "execution_count": 26,
   "id": "4f5025d1-c761-494e-841b-8db37306e56a",
   "metadata": {},
   "outputs": [
    {
     "name": "stdout",
     "output_type": "stream",
     "text": [
      "{'a': 6, 'b': 3}\n"
     ]
    }
   ],
   "source": [
    "d4 = {'a':1,'b':3,'a':6}     #duplicates are not allowed or taken\n",
    "print(d4)"
   ]
  },
  {
   "cell_type": "code",
   "execution_count": 30,
   "id": "b6140663-edfe-4470-997a-69d41f714be9",
   "metadata": {},
   "outputs": [
    {
     "data": {
      "text/plain": [
       "'b'"
      ]
     },
     "execution_count": 30,
     "metadata": {},
     "output_type": "execute_result"
    }
   ],
   "source": [
    "max(d4)    #max value is based on the key not the value"
   ]
  },
  {
   "cell_type": "code",
   "execution_count": 36,
   "id": "04456cdc-1679-45c4-bbf3-3e13d1e44a78",
   "metadata": {},
   "outputs": [
    {
     "name": "stdout",
     "output_type": "stream",
     "text": [
      "Ó\n"
     ]
    },
    {
     "data": {
      "text/plain": [
       "97"
      ]
     },
     "execution_count": 36,
     "metadata": {},
     "output_type": "execute_result"
    }
   ],
   "source": [
    "print(chr(211))\n",
    "ord('a')"
   ]
  },
  {
   "cell_type": "code",
   "execution_count": 40,
   "id": "949b1f2a-c1cd-4c95-bdce-82ca6ec2844c",
   "metadata": {},
   "outputs": [
    {
     "data": {
      "text/plain": [
       "300"
      ]
     },
     "execution_count": 40,
     "metadata": {},
     "output_type": "execute_result"
    }
   ],
   "source": [
    "d5 = {100:2,200:5}    #it adds the keys \n",
    "sum(d5)"
   ]
  },
  {
   "cell_type": "code",
   "execution_count": 42,
   "id": "483ff876-2fe2-4e32-bfb5-51554c3f7770",
   "metadata": {},
   "outputs": [
    {
     "name": "stdout",
     "output_type": "stream",
     "text": [
      "ram\n",
      "raheem\n",
      "robert\n"
     ]
    }
   ],
   "source": [
    "d1 = {'ram':25,\n",
    "'raheem':30,\n",
    "'robert':45}\n",
    "for i in d1:\n",
    "    print(i)"
   ]
  },
  {
   "cell_type": "code",
   "execution_count": 49,
   "id": "a5c5e0b5-f5c7-4bf7-9890-c419e78657ff",
   "metadata": {},
   "outputs": [
    {
     "name": "stdout",
     "output_type": "stream",
     "text": [
      "True\n",
      "False\n"
     ]
    }
   ],
   "source": [
    "print('ram' in d1)\n",
    "print('r' in d1)"
   ]
  },
  {
   "cell_type": "code",
   "execution_count": 61,
   "id": "8994ba0a-ef53-4cc8-88dc-b6e050fdcd2e",
   "metadata": {},
   "outputs": [
    {
     "ename": "KeyError",
     "evalue": "1",
     "output_type": "error",
     "traceback": [
      "\u001b[1;31m---------------------------------------------------------------------------\u001b[0m",
      "\u001b[1;31mKeyError\u001b[0m                                  Traceback (most recent call last)",
      "Cell \u001b[1;32mIn[61], line 1\u001b[0m\n\u001b[1;32m----> 1\u001b[0m d1[\u001b[38;5;241m1\u001b[39m]\n",
      "\u001b[1;31mKeyError\u001b[0m: 1"
     ]
    }
   ],
   "source": [
    "d1[1]     #we should enter the key"
   ]
  },
  {
   "cell_type": "code",
   "execution_count": 63,
   "id": "487caed3-cedd-4b57-8b10-d539d8acdede",
   "metadata": {},
   "outputs": [
    {
     "data": {
      "text/plain": [
       "25"
      ]
     },
     "execution_count": 63,
     "metadata": {},
     "output_type": "execute_result"
    }
   ],
   "source": [
    "d1['ram']"
   ]
  },
  {
   "cell_type": "code",
   "execution_count": 71,
   "id": "a2f1e7bf-f0ac-4175-91f9-f5bfd1f3163a",
   "metadata": {},
   "outputs": [
    {
     "name": "stdout",
     "output_type": "stream",
     "text": [
      "ram 25\n",
      "raheem 30\n",
      "robert 45\n"
     ]
    }
   ],
   "source": [
    "for i in d1:\n",
    "    print(i,d1[i])\n",
    "\n",
    "##for i in range(d1):     this won't work\n",
    "    ##print(i)"
   ]
  },
  {
   "cell_type": "code",
   "execution_count": 81,
   "id": "2fa79792-10cd-41d1-98af-b5524bf4f55f",
   "metadata": {},
   "outputs": [
    {
     "name": "stdout",
     "output_type": "stream",
     "text": [
      "apple\n"
     ]
    }
   ],
   "source": [
    "s=''\n",
    "for i in 'apple':\n",
    "    s +=i\n",
    "\n",
    "print(s)"
   ]
  },
  {
   "cell_type": "code",
   "execution_count": 83,
   "id": "3350a209-1108-403d-be34-69a087830d6f",
   "metadata": {},
   "outputs": [
    {
     "data": {
      "text/plain": [
       "{'fruit': 23}"
      ]
     },
     "execution_count": 83,
     "metadata": {},
     "output_type": "execute_result"
    }
   ],
   "source": [
    "d1 = {}\n",
    "d1['fruit']=23\n",
    "d1"
   ]
  },
  {
   "cell_type": "code",
   "execution_count": 87,
   "id": "7bd22fcd-dbe9-492d-9be2-8b1801aa3d4e",
   "metadata": {},
   "outputs": [
    {
     "name": "stdout",
     "output_type": "stream",
     "text": [
      "hii 1\n",
      "hello 2\n",
      "how 3\n"
     ]
    }
   ],
   "source": [
    "name =['hii','hello','how']\n",
    "age =[1,2,3]\n",
    "for i,j in zip(name,age):     #zip can handle numerous tuples \n",
    "    print(i,j)"
   ]
  },
  {
   "cell_type": "code",
   "execution_count": 91,
   "id": "53c8e314-60e8-46fd-a649-c851e8fb6e89",
   "metadata": {},
   "outputs": [
    {
     "name": "stdout",
     "output_type": "stream",
     "text": [
      "hii 1 here\n",
      "hello 2 there\n"
     ]
    }
   ],
   "source": [
    "place = ['here','there']\n",
    "for i,j,l in zip(name,age,place):    #it take the common sizes   \n",
    "    print(i,j,l)"
   ]
  },
  {
   "cell_type": "code",
   "execution_count": 95,
   "id": "9eb9b787-b6f3-4b51-aa62-18c029a1e701",
   "metadata": {},
   "outputs": [
    {
     "name": "stdout",
     "output_type": "stream",
     "text": [
      "<zip object at 0x0000024C2DAC7780>\n",
      "('hii', 1)\n",
      "('hello', 2)\n",
      "('how', 3)\n"
     ]
    }
   ],
   "source": [
    "d = zip(name,age)\n",
    "print(d)\n",
    "\n",
    "for i in d:\n",
    "    print(i)"
   ]
  },
  {
   "cell_type": "code",
   "execution_count": 103,
   "id": "efa9a0c9-c836-4157-8644-92be3c51f3c2",
   "metadata": {},
   "outputs": [
    {
     "name": "stdout",
     "output_type": "stream",
     "text": [
      "[8, 6] [3, 1, 9]\n",
      "{'even': [8, 6], 'odd': [3, 1, 9]}\n"
     ]
    }
   ],
   "source": [
    "import random\n",
    "e =[]\n",
    "o =[]\n",
    "for i in range(5):\n",
    "    r =random.randint(1,10)\n",
    "    if(r%2==0):\n",
    "        e.append(r)\n",
    "    else:\n",
    "        o.append(r)\n",
    "\n",
    "print(e,o)\n",
    "\n",
    "d ={'even':e,'odd':o}\n",
    "print(d)"
   ]
  },
  {
   "cell_type": "markdown",
   "id": "d5c8de5d-2add-45a5-a6c1-4ee768ea09ca",
   "metadata": {},
   "source": [
    "**dictionary methods**"
   ]
  },
  {
   "cell_type": "code",
   "execution_count": 106,
   "id": "08494fc0-ad00-4414-bcd7-168a1a5b0724",
   "metadata": {},
   "outputs": [
    {
     "data": {
      "text/plain": [
       "['__class__',\n",
       " '__class_getitem__',\n",
       " '__contains__',\n",
       " '__delattr__',\n",
       " '__delitem__',\n",
       " '__dir__',\n",
       " '__doc__',\n",
       " '__eq__',\n",
       " '__format__',\n",
       " '__ge__',\n",
       " '__getattribute__',\n",
       " '__getitem__',\n",
       " '__getstate__',\n",
       " '__gt__',\n",
       " '__hash__',\n",
       " '__init__',\n",
       " '__init_subclass__',\n",
       " '__ior__',\n",
       " '__iter__',\n",
       " '__le__',\n",
       " '__len__',\n",
       " '__lt__',\n",
       " '__ne__',\n",
       " '__new__',\n",
       " '__or__',\n",
       " '__reduce__',\n",
       " '__reduce_ex__',\n",
       " '__repr__',\n",
       " '__reversed__',\n",
       " '__ror__',\n",
       " '__setattr__',\n",
       " '__setitem__',\n",
       " '__sizeof__',\n",
       " '__str__',\n",
       " '__subclasshook__',\n",
       " 'clear',\n",
       " 'copy',\n",
       " 'fromkeys',\n",
       " 'get',\n",
       " 'items',\n",
       " 'keys',\n",
       " 'pop',\n",
       " 'popitem',\n",
       " 'setdefault',\n",
       " 'update',\n",
       " 'values']"
      ]
     },
     "execution_count": 106,
     "metadata": {},
     "output_type": "execute_result"
    }
   ],
   "source": [
    "dir({})"
   ]
  },
  {
   "cell_type": "code",
   "execution_count": 110,
   "id": "cf6f3837-e385-4884-8cd4-9e816d2a8c46",
   "metadata": {},
   "outputs": [
    {
     "data": {
      "text/plain": [
       "dict_items([('ram', 25), ('raheem', 30), ('robert', 45)])"
      ]
     },
     "execution_count": 110,
     "metadata": {},
     "output_type": "execute_result"
    }
   ],
   "source": [
    "d1 = {'ram':25,\n",
    "'raheem':30,\n",
    "'robert':45}\n",
    "d1.items()   #it gives all the items in the dict"
   ]
  },
  {
   "cell_type": "code",
   "execution_count": 114,
   "id": "1047ed4a-dbdd-4f44-b557-767eef82723e",
   "metadata": {},
   "outputs": [
    {
     "name": "stdout",
     "output_type": "stream",
     "text": [
      "dict_keys(['ram', 'raheem', 'robert']) \n",
      " dict_values([25, 30, 45])\n"
     ]
    }
   ],
   "source": [
    "print(d1.keys(),'\\n',d1.values())   #if we want them individually"
   ]
  },
  {
   "cell_type": "code",
   "execution_count": 118,
   "id": "f5dbce4b-297f-4d48-bfd6-f76e799d8147",
   "metadata": {},
   "outputs": [
    {
     "name": "stdout",
     "output_type": "stream",
     "text": [
      "dict_keys(['ram', 'raheem', 'robert'])\n"
     ]
    }
   ],
   "source": [
    "l1=d1.keys()\n",
    "print(l1)"
   ]
  },
  {
   "cell_type": "code",
   "execution_count": 122,
   "id": "fa926bd4-8805-4f43-b7a1-37d4c38200b1",
   "metadata": {},
   "outputs": [
    {
     "data": {
      "text/plain": [
       "['ram', 'raheem', 'robert']"
      ]
     },
     "execution_count": 122,
     "metadata": {},
     "output_type": "execute_result"
    }
   ],
   "source": [
    "list(l1)   #it can't be converted directly but using list "
   ]
  },
  {
   "cell_type": "code",
   "execution_count": 124,
   "id": "23a627b6-6489-47bd-802b-1b8e6e3a7129",
   "metadata": {},
   "outputs": [
    {
     "data": {
      "text/plain": [
       "[25, 30, 45]"
      ]
     },
     "execution_count": 124,
     "metadata": {},
     "output_type": "execute_result"
    }
   ],
   "source": [
    "list(d1.values())"
   ]
  },
  {
   "cell_type": "code",
   "execution_count": 148,
   "id": "d9d44287-74f5-4c87-8b50-b9b1b91c9b00",
   "metadata": {},
   "outputs": [
    {
     "name": "stdout",
     "output_type": "stream",
     "text": [
      "{'ram': 25, 'raheem': 30, 'robert': 45}\n"
     ]
    }
   ],
   "source": [
    "d1 = {'ram':25,\n",
    "'raheem':30,\n",
    "'robert':45}\n",
    "keys = list(d1.keys())\n",
    "values = list(d1.values())\n",
    "d2={}\n",
    "for i in range(len(keys)):\n",
    "    d2[keys[i]]=values[i]\n",
    "print(d2)"
   ]
  },
  {
   "cell_type": "code",
   "execution_count": null,
   "id": "5d951896-e494-4648-b190-9301208da3df",
   "metadata": {},
   "outputs": [],
   "source": []
  },
  {
   "cell_type": "code",
   "execution_count": 20,
   "id": "2224acd1-0149-4549-845f-cf24634baacc",
   "metadata": {},
   "outputs": [
    {
     "name": "stdout",
     "output_type": "stream",
     "text": [
      "{'first name': ['virat'], 'second name': ['kohli'], 'company': ['blr']}\n"
     ]
    }
   ],
   "source": [
    "s1 ='virat.kohli@blr.com'\n",
    "fn = []\n",
    "sn = []\n",
    "comp = []\n",
    "d1 ={}\n",
    "fn.append(s1[:s1.find('.')])\n",
    "sn.append(s1[s1.find('.')+1:s1.find('@',s1.find('.')+1)])\n",
    "comp.append(s1[s1.find('@',s1.find('.')+1)+1:s1.find('.',s1.find('@',s1.find('.')+1))])\n",
    "d1['first name']=fn\n",
    "d1['second name']=sn\n",
    "d1['company']=comp\n",
    "print(d1)"
   ]
  },
  {
   "cell_type": "code",
   "execution_count": 37,
   "id": "dc42c1de-b5a3-49a1-91b4-9dfcf072d2d7",
   "metadata": {},
   "outputs": [
    {
     "name": "stdout",
     "output_type": "stream",
     "text": [
      "{'can': 4, 'you': 2}\n"
     ]
    },
    {
     "data": {
      "text/plain": [
       "'you'"
      ]
     },
     "execution_count": 37,
     "metadata": {},
     "output_type": "execute_result"
    }
   ],
   "source": [
    "str1 ='can can you canner can you able to can canner'\n",
    "str2 =str1.split(' ')\n",
    "can = 0\n",
    "you =0\n",
    "di={}\n",
    "for i in str2:\n",
    "    if i=='can':\n",
    "        can+=1\n",
    "    if i=='you':\n",
    "        you+=1\n",
    "di['can']=can\n",
    "di['you']=you\n",
    "print(di)\n",
    "max(str2)"
   ]
  },
  {
   "cell_type": "code",
   "execution_count": 29,
   "id": "cf131d33-f914-4b65-8567-dc183f77294d",
   "metadata": {},
   "outputs": [
    {
     "name": "stdout",
     "output_type": "stream",
     "text": [
      "{'can': 4, 'you': 2, 'canner': 2, 'able': 1, 'to': 1}\n"
     ]
    }
   ],
   "source": [
    "d1 ={}\n",
    "for i in str2:\n",
    "    d1[i]=str2.count(i)    #much simple code\n",
    "\n",
    "print(d1)\n"
   ]
  },
  {
   "cell_type": "code",
   "execution_count": 49,
   "id": "595c8c2a-fa24-479a-8b2b-ee417e56e160",
   "metadata": {},
   "outputs": [
    {
     "name": "stdout",
     "output_type": "stream",
     "text": [
      "{'a': 57, 'b': 79, 'c': 121, 'd': 125}\n"
     ]
    }
   ],
   "source": [
    "d1 ={'a':12,'b':23,'c':22,'d':80}\n",
    "d2 ={'a':45,'b':56,'c':99,'d':45}\n",
    "d3 ={}\n",
    "val = list(d1.values())\n",
    "val2 =list(d2.values())\n",
    "keys = list(d1.keys())\n",
    "if len(d1)==len(d2):\n",
    "    for i in d1:\n",
    "        d3[i] = d1[i]+d2[i]\n",
    "\n",
    "print(d3)"
   ]
  },
  {
   "cell_type": "code",
   "execution_count": 1,
   "id": "4d27648d-0f4d-4c6f-bccf-ce94e16620f2",
   "metadata": {},
   "outputs": [
    {
     "name": "stdout",
     "output_type": "stream",
     "text": [
      "{} \n",
      " {'a': 12, 'b': 23, 'c': 22, 'd': 80}\n"
     ]
    }
   ],
   "source": [
    "a ={'a':12,'b':23,'c':22,'d':80}\n",
    "b=a.copy()\n",
    "a.clear()\n",
    "print(a,'\\n',b)"
   ]
  },
  {
   "cell_type": "code",
   "execution_count": 3,
   "id": "4c5f9d77-8435-47c3-bab1-c535181e19a0",
   "metadata": {},
   "outputs": [
    {
     "data": {
      "text/plain": [
       "12"
      ]
     },
     "execution_count": 3,
     "metadata": {},
     "output_type": "execute_result"
    }
   ],
   "source": [
    "b.pop('a')"
   ]
  },
  {
   "cell_type": "code",
   "execution_count": 5,
   "id": "5b1f6080-060c-459a-8596-933c3e63d0bd",
   "metadata": {},
   "outputs": [
    {
     "name": "stdout",
     "output_type": "stream",
     "text": [
      "{'b': 23, 'c': 22, 'd': 80}\n"
     ]
    }
   ],
   "source": [
    "print(b)"
   ]
  },
  {
   "cell_type": "code",
   "execution_count": 7,
   "id": "c3b99ecb-f6c3-4148-aa4a-a950b06323e3",
   "metadata": {},
   "outputs": [
    {
     "data": {
      "text/plain": [
       "('d', 80)"
      ]
     },
     "execution_count": 7,
     "metadata": {},
     "output_type": "execute_result"
    }
   ],
   "source": [
    "b.popitem()"
   ]
  },
  {
   "cell_type": "code",
   "execution_count": 9,
   "id": "8582cd30-c9dc-4005-8de1-4dad4944a422",
   "metadata": {},
   "outputs": [
    {
     "data": {
      "text/plain": [
       "{'b': 23, 'c': 22}"
      ]
     },
     "execution_count": 9,
     "metadata": {},
     "output_type": "execute_result"
    }
   ],
   "source": [
    "b"
   ]
  },
  {
   "cell_type": "code",
   "execution_count": 11,
   "id": "1c9b4c49-0547-4a90-8d67-edb4cbd8dd5e",
   "metadata": {},
   "outputs": [
    {
     "ename": "NameError",
     "evalue": "name 'b' is not defined",
     "output_type": "error",
     "traceback": [
      "\u001b[1;31m---------------------------------------------------------------------------\u001b[0m",
      "\u001b[1;31mNameError\u001b[0m                                 Traceback (most recent call last)",
      "Cell \u001b[1;32mIn[11], line 2\u001b[0m\n\u001b[0;32m      1\u001b[0m \u001b[38;5;28;01mdel\u001b[39;00m(b)\n\u001b[1;32m----> 2\u001b[0m \u001b[38;5;28mprint\u001b[39m(b)\n",
      "\u001b[1;31mNameError\u001b[0m: name 'b' is not defined"
     ]
    }
   ],
   "source": [
    "del(b)\n",
    "print(b)"
   ]
  },
  {
   "cell_type": "code",
   "execution_count": 25,
   "id": "5b91a465-1095-4a8f-9f7c-8a90ee87c809",
   "metadata": {},
   "outputs": [
    {
     "data": {
      "text/plain": [
       "12"
      ]
     },
     "execution_count": 25,
     "metadata": {},
     "output_type": "execute_result"
    }
   ],
   "source": [
    "a ={'a':12,'b':23,'c':22,'d':80}\n",
    "b=a.get('a')   #get the value of the 'a'\n",
    "b"
   ]
  },
  {
   "cell_type": "code",
   "execution_count": 27,
   "id": "1d1e5508-4077-4615-9c4d-4680d4f7c3d5",
   "metadata": {},
   "outputs": [
    {
     "name": "stdout",
     "output_type": "stream",
     "text": [
      "{'b': 7} {'a': 12, 'b': 23, 'c': 22, 'd': 80}\n"
     ]
    }
   ],
   "source": [
    "c=a.fromkeys('b',7)   #a is not modified here\n",
    "print(c,a)"
   ]
  },
  {
   "cell_type": "code",
   "execution_count": 6,
   "id": "034c7182-9945-46b3-8562-6b8f7ff8db33",
   "metadata": {},
   "outputs": [
    {
     "data": {
      "text/plain": [
       "{1: 'numbers', 2: 'numbers', 3: 'numbers', 4: 'numbers'}"
      ]
     },
     "execution_count": 6,
     "metadata": {},
     "output_type": "execute_result"
    }
   ],
   "source": [
    "d={}.fromkeys([1,2,3,4],'numbers')\n",
    "d"
   ]
  },
  {
   "cell_type": "code",
   "execution_count": 14,
   "id": "175cdc64-0176-46a8-97f6-1d9a3da78fc2",
   "metadata": {},
   "outputs": [
    {
     "name": "stdout",
     "output_type": "stream",
     "text": [
      "{'a': None, 'b': None, 'c': None, 'd': None, 'e': None} \n",
      " {1: 'numbers', 2: 'numbers', 3: 'numbers', 4: 'numbers'}\n"
     ]
    }
   ],
   "source": [
    "d2 = d.fromkeys('abcde') #takes each letter or an iterablr value and forms a dictionary\n",
    "print(d2,'\\n',d)    #here the d is not updated but used for the method"
   ]
  },
  {
   "cell_type": "code",
   "execution_count": null,
   "id": "f70fbb95-6938-45f8-b02c-b412c5280077",
   "metadata": {},
   "outputs": [],
   "source": []
  },
  {
   "cell_type": "code",
   "execution_count": null,
   "id": "83324ab8-247b-4f9d-a7d1-3c4b4cedbc3e",
   "metadata": {},
   "outputs": [],
   "source": []
  },
  {
   "cell_type": "code",
   "execution_count": null,
   "id": "f8c3d745-9d15-4781-9adf-afa609a613dd",
   "metadata": {},
   "outputs": [],
   "source": []
  },
  {
   "cell_type": "code",
   "execution_count": null,
   "id": "c425e837-8008-479c-82a5-07925db39367",
   "metadata": {},
   "outputs": [],
   "source": []
  },
  {
   "cell_type": "code",
   "execution_count": null,
   "id": "b6bc632e-0204-4152-b679-41a2d772d373",
   "metadata": {},
   "outputs": [],
   "source": []
  }
 ],
 "metadata": {
  "kernelspec": {
   "display_name": "Python [conda env:base] *",
   "language": "python",
   "name": "conda-base-py"
  },
  "language_info": {
   "codemirror_mode": {
    "name": "ipython",
    "version": 3
   },
   "file_extension": ".py",
   "mimetype": "text/x-python",
   "name": "python",
   "nbconvert_exporter": "python",
   "pygments_lexer": "ipython3",
   "version": "3.12.7"
  }
 },
 "nbformat": 4,
 "nbformat_minor": 5
}
