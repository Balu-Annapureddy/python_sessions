{
 "cells": [
  {
   "cell_type": "code",
   "execution_count": 4,
   "id": "3105dd66-5a72-4865-8c6d-b6324cc555aa",
   "metadata": {},
   "outputs": [
    {
     "data": {
      "text/plain": [
       "1"
      ]
     },
     "execution_count": 4,
     "metadata": {},
     "output_type": "execute_result"
    }
   ],
   "source": [
    "string1 = 'hai hai hai hai'\n",
    "i1 = string1.index('a')\n",
    "i1"
   ]
  },
  {
   "cell_type": "code",
   "execution_count": 6,
   "id": "39f0685b-5647-4b51-a567-35d70176a79c",
   "metadata": {},
   "outputs": [
    {
     "data": {
      "text/plain": [
       "5"
      ]
     },
     "execution_count": 6,
     "metadata": {},
     "output_type": "execute_result"
    }
   ],
   "source": [
    "i2 = string1.index('a',i1+1)\n",
    "i2"
   ]
  },
  {
   "cell_type": "code",
   "execution_count": 10,
   "id": "c42eee21-5f68-433d-a4f1-37ea0ac9e40e",
   "metadata": {},
   "outputs": [
    {
     "data": {
      "text/plain": [
       "9"
      ]
     },
     "execution_count": 10,
     "metadata": {},
     "output_type": "execute_result"
    }
   ],
   "source": [
    "i3 = string1.index('a',i2+1)\n",
    "i3"
   ]
  },
  {
   "cell_type": "code",
   "execution_count": 4,
   "id": "4da515d9-18f4-4377-b933-0c76f16c78be",
   "metadata": {},
   "outputs": [
    {
     "name": "stdout",
     "output_type": "stream",
     "text": [
      "3 \n",
      " 1489 \n"
     ]
    }
   ],
   "source": [
    "str1 ='3.1489 '\n",
    "a = str1.index('.')\n",
    "print(str1[:a],'\\n',str1[a+1:])"
   ]
  },
  {
   "cell_type": "code",
   "execution_count": 6,
   "id": "47b7c60f-2110-4d3d-937f-ba3650bac4b4",
   "metadata": {},
   "outputs": [
    {
     "name": "stdout",
     "output_type": "stream",
     "text": [
      "1 5 9 13\n"
     ]
    }
   ],
   "source": [
    "string1 = 'hai hai hai hai'\n",
    "i1 = string1.index('a')\n",
    "i2 = string1.index('a',i1+1)\n",
    "i3 = string1.index('a',i2+1)\n",
    "i4 = string1.index('a',i3+1)\n",
    "print(i1,i2,i3,i4)"
   ]
  },
  {
   "cell_type": "code",
   "execution_count": 8,
   "id": "3676a705-d26b-45c7-b076-e89a78c657a2",
   "metadata": {},
   "outputs": [
    {
     "data": {
      "text/plain": [
       "4"
      ]
     },
     "execution_count": 8,
     "metadata": {},
     "output_type": "execute_result"
    }
   ],
   "source": [
    "string1.count('a')"
   ]
  },
  {
   "cell_type": "code",
   "execution_count": 14,
   "id": "5e8b7924-1df2-4560-acdd-73bdafde8bcb",
   "metadata": {},
   "outputs": [
    {
     "data": {
      "text/plain": [
       "5"
      ]
     },
     "execution_count": 14,
     "metadata": {},
     "output_type": "execute_result"
    }
   ],
   "source": [
    "string1.find('a',2)"
   ]
  },
  {
   "cell_type": "code",
   "execution_count": 16,
   "id": "1f5b474b-2614-4f18-8b55-ccb94ae71a77",
   "metadata": {},
   "outputs": [
    {
     "name": "stdin",
     "output_type": "stream",
     "text": [
      "enter the mail python.anaconda@pace.com\n"
     ]
    },
    {
     "name": "stdout",
     "output_type": "stream",
     "text": [
      "First name :  python\n",
      "second name :  anaconda\n",
      "company :  pace\n"
     ]
    }
   ],
   "source": [
    "str1 = input(\"enter the mail\")\n",
    "fn = str1.find('.')\n",
    "sn = str1.find('@',fn+1)\n",
    "comp = str1.find('.',sn+1)\n",
    "print(\"First name : \",str1[:fn])\n",
    "print(\"second name : \",str1[fn+1:sn])\n",
    "print(\"company : \",str1[sn+1:comp])"
   ]
  },
  {
   "cell_type": "markdown",
   "id": "0868de76-0fd6-4d93-aa38-e806ddf37162",
   "metadata": {},
   "source": [
    "**list comprehension**"
   ]
  },
  {
   "cell_type": "code",
   "execution_count": 5,
   "id": "45b7f0fb-08f2-4a0f-8cfb-256e74047ed7",
   "metadata": {},
   "outputs": [
    {
     "data": {
      "text/plain": [
       "[1, 4, 9, 16, 25]"
      ]
     },
     "execution_count": 5,
     "metadata": {},
     "output_type": "execute_result"
    }
   ],
   "source": [
    "list1 = [1,2,3,4,5]\n",
    "output =[]\n",
    "for i in list1:\n",
    "    output.append(i*i)\n",
    "\n",
    "output"
   ]
  },
  {
   "cell_type": "code",
   "execution_count": 19,
   "id": "fef541ac-a329-456c-9a17-6b6d59e41cc8",
   "metadata": {},
   "outputs": [
    {
     "name": "stdout",
     "output_type": "stream",
     "text": [
      "[1, 4, 9, 16, 25]\n"
     ]
    }
   ],
   "source": [
    "out=[i*i for i in list1]    #first write the output then the for loop\n",
    "print(out)"
   ]
  },
  {
   "cell_type": "code",
   "execution_count": 15,
   "id": "987c4cda-98f1-44ad-ab3c-786809cbbe46",
   "metadata": {},
   "outputs": [
    {
     "name": "stdout",
     "output_type": "stream",
     "text": [
      "['Hyd', 'Bengaluru', 'Delhi']\n"
     ]
    }
   ],
   "source": [
    "list2=['hyd','bengaluru','delhi']\n",
    "outp = [i.capitalize() for i in list2]\n",
    "print(outp)"
   ]
  },
  {
   "cell_type": "code",
   "execution_count": 21,
   "id": "7e0da375-5fc0-4b6c-81ee-38f501163f07",
   "metadata": {},
   "outputs": [
    {
     "name": "stdout",
     "output_type": "stream",
     "text": [
      "[0, 1, 2, 3, 4, 5, 6, 7, 8, 9, 10, 11, 12, 13, 14, 15, 16, 17, 18, 19, 20]\n"
     ]
    }
   ],
   "source": [
    "output1 =[i for i in range(21)]\n",
    "print(output1)"
   ]
  },
  {
   "cell_type": "code",
   "execution_count": 27,
   "id": "154298b8-63ff-4256-9fd4-a38c66ac7508",
   "metadata": {},
   "outputs": [
    {
     "data": {
      "text/plain": [
       "['h#d', 'beng#luru']"
      ]
     },
     "execution_count": 27,
     "metadata": {},
     "output_type": "execute_result"
    }
   ],
   "source": [
    "list2=['h#d','beng#luru','delhi']\n",
    "output2 =[]\n",
    "for i in list2:\n",
    "    if '#' in i:\n",
    "        output2.append(i)\n",
    "output2"
   ]
  },
  {
   "cell_type": "code",
   "execution_count": 45,
   "id": "2740ff20-5a99-448a-bd76-592794d36d18",
   "metadata": {},
   "outputs": [
    {
     "name": "stdout",
     "output_type": "stream",
     "text": [
      "['h#d', 'beng#luru']\n"
     ]
    }
   ],
   "source": [
    "list2=['h#d','beng#luru','delhi']\n",
    "\n",
    "output3=[i for i in list2 if '#' in i]    #first output then for loop then if condition\n",
    "print(output3)"
   ]
  },
  {
   "cell_type": "code",
   "execution_count": 43,
   "id": "c9cfa6f8-be0b-42be-a464-171b436a825e",
   "metadata": {},
   "outputs": [
    {
     "name": "stdout",
     "output_type": "stream",
     "text": [
      "['ac', 'a']\n",
      "['ac', 'a']\n"
     ]
    }
   ],
   "source": [
    "l1 = ['abcd','abc','ac','a']\n",
    "output4=[]\n",
    "for i in l1:\n",
    "    if len(i)<3:\n",
    "        output4.append(i)\n",
    "\n",
    "print(output4)\n",
    "\n",
    "output5 =[i for i in l1 if len(i)<3]\n",
    "print(output5)"
   ]
  },
  {
   "cell_type": "code",
   "execution_count": 49,
   "id": "5b2b1983-caf9-42fd-b320-164fd8d363e1",
   "metadata": {},
   "outputs": [
    {
     "data": {
      "text/plain": [
       "['odd:1', 'even:2', 'odd:3', 'even:4', 'odd:5', 'even:6']"
      ]
     },
     "execution_count": 49,
     "metadata": {},
     "output_type": "execute_result"
    }
   ],
   "source": [
    "l2 =[1,2,3,4,5,6]\n",
    "out1=[]\n",
    "for i in l2:\n",
    "    if i%2==0:\n",
    "        out1.append(\"even:{}\".format(i))\n",
    "    else:\n",
    "        out1.append(\"odd:{}\".format(i))\n",
    "\n",
    "out1"
   ]
  },
  {
   "cell_type": "code",
   "execution_count": 53,
   "id": "af3772eb-b4db-4cbd-8d5d-e34904a61580",
   "metadata": {},
   "outputs": [
    {
     "name": "stdout",
     "output_type": "stream",
     "text": [
      "['odd:1', 'even:2', 'odd:3', 'even:4', 'odd:5', 'even:6']\n"
     ]
    }
   ],
   "source": [
    "out2 =['even:{}'.format(i) if i%2==0 else 'odd:{}'.format(i) for i in l2]\n",
    "print(out2)"
   ]
  },
  {
   "cell_type": "code",
   "execution_count": null,
   "id": "78e30305-e9ca-41e3-a32c-775412c6bda5",
   "metadata": {},
   "outputs": [],
   "source": []
  },
  {
   "cell_type": "code",
   "execution_count": null,
   "id": "c067e134-3690-4dc7-bea1-6f48848418d4",
   "metadata": {},
   "outputs": [],
   "source": []
  },
  {
   "cell_type": "code",
   "execution_count": null,
   "id": "63122635-d0f9-47a8-8d53-84314ba8d95d",
   "metadata": {},
   "outputs": [],
   "source": []
  },
  {
   "cell_type": "code",
   "execution_count": null,
   "id": "96d8b9a7-13cb-48c5-ab9f-8659b6204019",
   "metadata": {},
   "outputs": [],
   "source": []
  }
 ],
 "metadata": {
  "kernelspec": {
   "display_name": "Python [conda env:base] *",
   "language": "python",
   "name": "conda-base-py"
  },
  "language_info": {
   "codemirror_mode": {
    "name": "ipython",
    "version": 3
   },
   "file_extension": ".py",
   "mimetype": "text/x-python",
   "name": "python",
   "nbconvert_exporter": "python",
   "pygments_lexer": "ipython3",
   "version": "3.12.7"
  }
 },
 "nbformat": 4,
 "nbformat_minor": 5
}
