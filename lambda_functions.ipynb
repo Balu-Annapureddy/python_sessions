{
 "cells": [
  {
   "cell_type": "markdown",
   "id": "098a94ae-af33-4deb-8c28-b92b363a2860",
   "metadata": {},
   "source": [
    "**one argument**"
   ]
  },
  {
   "cell_type": "code",
   "execution_count": 12,
   "id": "55bae098-c48a-436a-adb2-79f0b150088f",
   "metadata": {},
   "outputs": [
    {
     "data": {
      "text/plain": [
       "30"
      ]
     },
     "execution_count": 12,
     "metadata": {},
     "output_type": "execute_result"
    }
   ],
   "source": [
    "def add(x):\n",
    "    return(x+10)\n",
    "\n",
    "add(20)"
   ]
  },
  {
   "cell_type": "code",
   "execution_count": 14,
   "id": "3912ff64-1219-4ff2-b1ae-f4d823619fa9",
   "metadata": {},
   "outputs": [
    {
     "data": {
      "text/plain": [
       "30"
      ]
     },
     "execution_count": 14,
     "metadata": {},
     "output_type": "execute_result"
    }
   ],
   "source": [
    "sub = lambda x:x+10    #<function> = lambda <argument>:<output>\n",
    "sub(20)"
   ]
  },
  {
   "cell_type": "code",
   "execution_count": 16,
   "id": "fbb7b871-5f7d-45e5-87b6-fc457914778c",
   "metadata": {},
   "outputs": [
    {
     "data": {
      "text/plain": [
       "8"
      ]
     },
     "execution_count": 16,
     "metadata": {},
     "output_type": "execute_result"
    }
   ],
   "source": [
    "cube = lambda a:a**3\n",
    "cube(2)"
   ]
  },
  {
   "cell_type": "markdown",
   "id": "d657e0cd-1266-439d-b802-033c51137a11",
   "metadata": {},
   "source": [
    "**two arguments**"
   ]
  },
  {
   "cell_type": "code",
   "execution_count": 19,
   "id": "3ef05dfe-84c1-4b70-8c0d-bc6a3f4fec54",
   "metadata": {},
   "outputs": [
    {
     "data": {
      "text/plain": [
       "2"
      ]
     },
     "execution_count": 19,
     "metadata": {},
     "output_type": "execute_result"
    }
   ],
   "source": [
    "mul = lambda a,b:a*b\n",
    "mul(1,2)"
   ]
  },
  {
   "cell_type": "code",
   "execution_count": 21,
   "id": "5fc00841-9d23-4a17-ba13-43ec5cd32503",
   "metadata": {},
   "outputs": [
    {
     "data": {
      "text/plain": [
       "4.0"
      ]
     },
     "execution_count": 21,
     "metadata": {},
     "output_type": "execute_result"
    }
   ],
   "source": [
    "#average of two numbers \n",
    "avg = lambda a,b,c:(a+b+c)/3\n",
    "avg(3,4,5)"
   ]
  },
  {
   "cell_type": "code",
   "execution_count": 33,
   "id": "961abf04-ee9b-49c6-a4e8-86a304c4b5f8",
   "metadata": {},
   "outputs": [
    {
     "data": {
      "text/plain": [
       "12.33"
      ]
     },
     "execution_count": 33,
     "metadata": {},
     "output_type": "execute_result"
    }
   ],
   "source": [
    "avg = lambda a,b,c=20:round((a+b+c)/3,2)\n",
    "avg(7,10)"
   ]
  },
  {
   "cell_type": "code",
   "execution_count": 39,
   "id": "ca08e2bc-1cef-452c-bf8c-32b105fe775b",
   "metadata": {},
   "outputs": [
    {
     "data": {
      "text/plain": [
       "3"
      ]
     },
     "execution_count": 39,
     "metadata": {},
     "output_type": "execute_result"
    }
   ],
   "source": [
    "\n",
    "def gr(a,b):\n",
    "    if a>b:\n",
    "        return a\n",
    "    else:\n",
    "        return b\n",
    "\n",
    "gr(2,3)"
   ]
  },
  {
   "cell_type": "code",
   "execution_count": 43,
   "id": "67e723d0-37cc-4885-acc6-18376167b346",
   "metadata": {},
   "outputs": [
    {
     "data": {
      "text/plain": [
       "4"
      ]
     },
     "execution_count": 43,
     "metadata": {},
     "output_type": "execute_result"
    }
   ],
   "source": [
    "gr = lambda a,b:a if a>b else b    #it is very imp for this concept\n",
    "gr(2,4)"
   ]
  },
  {
   "cell_type": "code",
   "execution_count": 47,
   "id": "88e784f2-8002-433e-b4b9-3b8e29487571",
   "metadata": {},
   "outputs": [
    {
     "name": "stdout",
     "output_type": "stream",
     "text": [
      "['Hyd', 'Bglr', 'Mumbai']\n"
     ]
    }
   ],
   "source": [
    "list1 = ['hyd','bglr','mumbai']\n",
    "list2=[]\n",
    "for i in list1:\n",
    "    list2.append(i.capitalize())\n",
    "\n",
    "print(list2)"
   ]
  },
  {
   "cell_type": "code",
   "execution_count": 53,
   "id": "e79a868f-41dd-4964-a9b7-3d6df08d728b",
   "metadata": {},
   "outputs": [
    {
     "name": "stdout",
     "output_type": "stream",
     "text": [
      "['Hyd', 'Bglr', 'Mumbai']\n"
     ]
    }
   ],
   "source": [
    "list3=[i.capitalize() for i in list1 ]\n",
    "print(list3)"
   ]
  },
  {
   "cell_type": "code",
   "execution_count": 57,
   "id": "c93e3627-86e1-4cf7-8cc6-9fb3f890f383",
   "metadata": {},
   "outputs": [
    {
     "data": {
      "text/plain": [
       "(<function __main__.<lambda>(i)>, ['hyd', 'bglr', 'mumbai'])"
      ]
     },
     "execution_count": 57,
     "metadata": {},
     "output_type": "execute_result"
    }
   ],
   "source": [
    "#lambda <argument>:<output>,<iterator>\n",
    "lambda i :i.capitalize ,list1"
   ]
  },
  {
   "cell_type": "code",
   "execution_count": 77,
   "id": "273d6a2d-6420-4cf9-b6dd-a3623392900a",
   "metadata": {},
   "outputs": [
    {
     "data": {
      "text/plain": [
       "[<function str.capitalize()>,\n",
       " <function str.capitalize()>,\n",
       " <function str.capitalize()>]"
      ]
     },
     "execution_count": 77,
     "metadata": {},
     "output_type": "execute_result"
    }
   ],
   "source": [
    "list1 = ['hyd','bglr','mumbai']\n",
    "list(map(lambda i :i.capitalize ,list1))  #this can work just like the list comprehension"
   ]
  },
  {
   "cell_type": "code",
   "execution_count": 75,
   "id": "0c83ebab-6d25-4d5a-80ae-1f77ddff1a07",
   "metadata": {},
   "outputs": [
    {
     "data": {
      "text/plain": [
       "[1, 4, 9, 16, 25]"
      ]
     },
     "execution_count": 75,
     "metadata": {},
     "output_type": "execute_result"
    }
   ],
   "source": [
    "l1 =[1,2,3,4,5]\n",
    "lambda i:i**2,l1\n",
    "list(map(lambda i:i**2,l1))"
   ]
  },
  {
   "cell_type": "code",
   "execution_count": 87,
   "id": "6ee36b26-605e-4a4a-9fc5-44aaaad3420d",
   "metadata": {},
   "outputs": [
    {
     "data": {
      "text/plain": [
       "[12, 24, 36]"
      ]
     },
     "execution_count": 87,
     "metadata": {},
     "output_type": "execute_result"
    }
   ],
   "source": [
    "l1=[1,2,3]\n",
    "l2=[11,22,33]\n",
    "list(map(lambda i,j:i+j,l1,l2))"
   ]
  },
  {
   "cell_type": "code",
   "execution_count": 85,
   "id": "343e753b-f438-4d86-9146-a515ee294932",
   "metadata": {},
   "outputs": [
    {
     "name": "stdout",
     "output_type": "stream",
     "text": [
      "[12, 24, 36]\n"
     ]
    }
   ],
   "source": [
    "l1=[1,2,3]\n",
    "l2=[11,22,33]\n",
    "l3=[]\n",
    "for i,j in zip(l1,l2):\n",
    "    l3.append(i+j)\n",
    "\n",
    "print(l3)"
   ]
  },
  {
   "cell_type": "code",
   "execution_count": 101,
   "id": "5622fc8c-a62a-4356-853d-c5d1ba6bacf0",
   "metadata": {},
   "outputs": [
    {
     "data": {
      "text/plain": [
       "[True, True, False]"
      ]
     },
     "execution_count": 101,
     "metadata": {},
     "output_type": "execute_result"
    }
   ],
   "source": [
    "list1 =['hy#d','mum#bai','chennai']\n",
    "list(map(lambda i:'#' in i,list1))      #here we are conditional mapping"
   ]
  },
  {
   "cell_type": "code",
   "execution_count": 103,
   "id": "a0af3336-77b4-4d3a-be8a-e2634193deed",
   "metadata": {},
   "outputs": [
    {
     "data": {
      "text/plain": [
       "['hy#d', 'mum#bai']"
      ]
     },
     "execution_count": 103,
     "metadata": {},
     "output_type": "execute_result"
    }
   ],
   "source": [
    "list1 =['hy#d','mum#bai','chennai']\n",
    "list(filter(lambda i:'#' in i,list1))    #we use filter to get the values"
   ]
  },
  {
   "cell_type": "code",
   "execution_count": null,
   "id": "27b275c0-2073-4720-83d8-fb9698e3381d",
   "metadata": {},
   "outputs": [],
   "source": []
  },
  {
   "cell_type": "code",
   "execution_count": null,
   "id": "672ad496-b655-4108-ac1d-bc85c7e36ab5",
   "metadata": {},
   "outputs": [],
   "source": []
  },
  {
   "cell_type": "code",
   "execution_count": null,
   "id": "806138dc-e159-4afa-8d76-b19519d7ab59",
   "metadata": {},
   "outputs": [],
   "source": []
  }
 ],
 "metadata": {
  "kernelspec": {
   "display_name": "Python [conda env:base] *",
   "language": "python",
   "name": "conda-base-py"
  },
  "language_info": {
   "codemirror_mode": {
    "name": "ipython",
    "version": 3
   },
   "file_extension": ".py",
   "mimetype": "text/x-python",
   "name": "python",
   "nbconvert_exporter": "python",
   "pygments_lexer": "ipython3",
   "version": "3.12.7"
  }
 },
 "nbformat": 4,
 "nbformat_minor": 5
}
