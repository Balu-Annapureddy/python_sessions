{
 "cells": [
  {
   "cell_type": "code",
   "execution_count": 2,
   "id": "ad17c1e9-a6bc-4369-8323-8dab1c45048e",
   "metadata": {},
   "outputs": [
    {
     "name": "stdout",
     "output_type": "stream",
     "text": [
      "Help on built-in function eval in module builtins:\n",
      "\n",
      "eval(source, globals=None, locals=None, /)\n",
      "    Evaluate the given source in the context of globals and locals.\n",
      "\n",
      "    The source may be a string representing a Python expression\n",
      "    or a code object as returned by compile().\n",
      "    The globals must be a dictionary and locals can be any mapping,\n",
      "    defaulting to the current globals and locals.\n",
      "    If only globals is given, locals defaults to it.\n",
      "\n"
     ]
    }
   ],
   "source": [
    "help(eval)\n"
   ]
  },
  {
   "cell_type": "code",
   "execution_count": 8,
   "id": "d30678fe-a389-4b94-9980-e44860f69e45",
   "metadata": {},
   "outputs": [
    {
     "name": "stdin",
     "output_type": "stream",
     "text": [
      "enter your salary:  10000\n",
      "enter thte tax percentage:  5\n"
     ]
    },
    {
     "name": "stdout",
     "output_type": "stream",
     "text": [
      "your salary after tax is : 9500.0\n"
     ]
    }
   ],
   "source": [
    "s = eval(input(\"enter your salary: \"))\n",
    "t = eval(input(\"enter thte tax percentage: \"))\n",
    "tax = (s/100)*t\n",
    "print(\"your salary after tax is :\",s - tax)"
   ]
  },
  {
   "cell_type": "code",
   "execution_count": 10,
   "id": "13aaabb5-543a-4849-a05d-6374918b16a0",
   "metadata": {},
   "outputs": [
    {
     "name": "stdin",
     "output_type": "stream",
     "text": [
      "enter a number between 1 and 100 : 5\n"
     ]
    },
    {
     "name": "stdout",
     "output_type": "stream",
     "text": [
      "the square of  5 is  25\n"
     ]
    }
   ],
   "source": [
    "n = int(input(\"enter a number between 1 and 100 :\"))\n",
    "sn = n**2\n",
    "print(\"the square of \",n ,\"is \",sn)"
   ]
  },
  {
   "cell_type": "code",
   "execution_count": 14,
   "id": "ef00189b-cf68-4985-bc65-f5e655e788cb",
   "metadata": {},
   "outputs": [
    {
     "name": "stdout",
     "output_type": "stream",
     "text": [
      "the square of  82 is : 6724\n"
     ]
    }
   ],
   "source": [
    "import random\n",
    "r = random.randint(1,100)\n",
    "print(\"the square of \",r ,\"is :\",r**2)"
   ]
  },
  {
   "cell_type": "code",
   "execution_count": 16,
   "id": "6b97355f-c680-411a-b399-13bc8cc8adf9",
   "metadata": {},
   "outputs": [
    {
     "name": "stdin",
     "output_type": "stream",
     "text": [
      "enter a distance in km : 10\n",
      "enter rate per km :  5\n"
     ]
    },
    {
     "name": "stdout",
     "output_type": "stream",
     "text": [
      "total charge will be : 50\n"
     ]
    }
   ],
   "source": [
    "d = int(input(\"enter a distance in km :\"))\n",
    "r = int(input(\"enter rate per km : \"))\n",
    "print(\"total charge will be :\",d*r)"
   ]
  },
  {
   "cell_type": "code",
   "execution_count": 18,
   "id": "a5decb9b-395e-4279-a775-fa0d525a1ef8",
   "metadata": {},
   "outputs": [
    {
     "name": "stdin",
     "output_type": "stream",
     "text": [
      "enter the bill in dollars:  50\n"
     ]
    },
    {
     "name": "stdout",
     "output_type": "stream",
     "text": [
      "dollar is not accpeted \n"
     ]
    },
    {
     "name": "stdin",
     "output_type": "stream",
     "text": [
      "enter dollar value in ruppes : 80\n"
     ]
    },
    {
     "name": "stdout",
     "output_type": "stream",
     "text": [
      "your bill will be  4000 ruppes only\n"
     ]
    }
   ],
   "source": [
    "d = int(input(\"enter the bill in dollars: \"))\n",
    "print(\"dollar is not accpeted \")\n",
    "r = int(input(\"enter dollar value in ruppes :\"))\n",
    "print(\"your bill will be \",d*r, \"ruppes only\")"
   ]
  },
  {
   "cell_type": "code",
   "execution_count": 22,
   "id": "68c45bd6-dcc3-4379-b750-dd26cc60c45d",
   "metadata": {},
   "outputs": [
    {
     "name": "stdin",
     "output_type": "stream",
     "text": [
      "enter the bill in dollars:  40\n"
     ]
    },
    {
     "name": "stdout",
     "output_type": "stream",
     "text": [
      "dollar is not accpeted \n"
     ]
    },
    {
     "name": "stdin",
     "output_type": "stream",
     "text": [
      "enter dollar value in ruppes : 80\n"
     ]
    },
    {
     "name": "stdout",
     "output_type": "stream",
     "text": [
      "your bill will be  3200 ruppes only\n"
     ]
    }
   ],
   "source": [
    "import time\n",
    "d = int(input(\"enter the bill in dollars: \"))\n",
    "time.sleep(3)  #delays the next line of code  by 3 sec\n",
    "print(\"dollar is not accpeted \")\n",
    "r = int(input(\"enter dollar value in ruppes :\"))\n",
    "time.sleep(3)\n",
    "print(\"your bill will be \",d*r, \"ruppes only\")"
   ]
  },
  {
   "cell_type": "code",
   "execution_count": 16,
   "id": "b8516ace-d12a-4f41-b2d0-1fb6d6c409cd",
   "metadata": {},
   "outputs": [
    {
     "name": "stdin",
     "output_type": "stream",
     "text": [
      "enter distance in kilometers :  2\n"
     ]
    },
    {
     "name": "stdout",
     "output_type": "stream",
     "text": [
      "charge is 30 \n"
     ]
    }
   ],
   "source": [
    "d = int (input(\"enter distance in kilometers : \"))\n",
    "if d >10:\n",
    "    print(\"charge is 100\")\n",
    "elif(7 <= d <=10):\n",
    "    print(\"charge is 70 \")\n",
    "elif (4 <= d < 7):\n",
    "    print(\"charge is 40 \")\n",
    "else :\n",
    "    print(\"charge is 30 \")"
   ]
  },
  {
   "cell_type": "code",
   "execution_count": 10,
   "id": "261bf38f-87bc-4302-8e84-60b4483d8d1f",
   "metadata": {},
   "outputs": [
    {
     "name": "stdin",
     "output_type": "stream",
     "text": [
      "enter the number: 5\n"
     ]
    },
    {
     "name": "stdout",
     "output_type": "stream",
     "text": [
      "120\n"
     ]
    }
   ],
   "source": [
    "#factorial of a number \n",
    "f=1\n",
    "x= int(input(\"enter the number:\"))\n",
    "for i in range(1,x+1):\n",
    "    f= f*i\n",
    "\n",
    "print(f)"
   ]
  },
  {
   "cell_type": "code",
   "execution_count": 22,
   "id": "11d2c814-2efe-43be-8e98-8e5b4febd972",
   "metadata": {},
   "outputs": [
    {
     "name": "stdin",
     "output_type": "stream",
     "text": [
      "enter the number: 5\n"
     ]
    },
    {
     "name": "stdout",
     "output_type": "stream",
     "text": [
      "the factorial of 5 is 120\n"
     ]
    }
   ],
   "source": [
    "#factorial of a number \n",
    "f=1\n",
    "x= int(input(\"enter the number:\"))\n",
    "if x<0:\n",
    "    print(\"can't find the factorial\")\n",
    "elif x==0:\n",
    "    print(\"the factorial is 1\")\n",
    "else:\n",
    "    for i in range(1,x+1):\n",
    "        f= f*i\n",
    "    print(\"the factorial of {} is {}\".format(x,f))"
   ]
  },
  {
   "cell_type": "code",
   "execution_count": 28,
   "id": "f882317c-efa1-4745-b3a5-3a7261ddf01e",
   "metadata": {},
   "outputs": [
    {
     "name": "stdin",
     "output_type": "stream",
     "text": [
      "enter the number: 5\n"
     ]
    },
    {
     "name": "stdout",
     "output_type": "stream",
     "text": [
      "0 1 1 2 3 5 "
     ]
    }
   ],
   "source": [
    "#fibbonacci series\n",
    "x=int(input('enter the number:'))\n",
    "first=0\n",
    "second=1\n",
    "print(first,second,end=' ')\n",
    "for i in range(2,x+1):\n",
    "    num=first+second\n",
    "    print(num,end=' ')\n",
    "    first=second\n",
    "    second=num\n"
   ]
  },
  {
   "cell_type": "code",
   "execution_count": 32,
   "id": "6243e08f-ac99-4fa8-b412-85aa61a2653c",
   "metadata": {},
   "outputs": [
    {
     "name": "stdin",
     "output_type": "stream",
     "text": [
      "enter a number a: 4\n",
      "enter a number b: 5\n"
     ]
    },
    {
     "name": "stdout",
     "output_type": "stream",
     "text": [
      "now a is 5\n",
      " now b is4\n"
     ]
    }
   ],
   "source": [
    "# swapping of numbers\n",
    "a=input('enter a number a:')\n",
    "b=input('enter a number b:')\n",
    "c=a\n",
    "a=b\n",
    "b=c\n",
    "print('now a is {}\\n now b is {}'.format(a,b))"
   ]
  },
  {
   "cell_type": "code",
   "execution_count": 44,
   "id": "ea765330-26df-4150-8c56-3a32e950c93c",
   "metadata": {},
   "outputs": [
    {
     "name": "stdin",
     "output_type": "stream",
     "text": [
      "enter a string:  he has a bee\n"
     ]
    },
    {
     "name": "stdout",
     "output_type": "stream",
     "text": [
      "['bee', 'a', 'has', 'he']\n"
     ]
    }
   ],
   "source": [
    "# spliting of a string\n",
    "string=input(\"enter a string: \")\n",
    "li1=string.split()\n",
    "print(li1[::-1])"
   ]
  },
  {
   "cell_type": "code",
   "execution_count": 50,
   "id": "d6633fff-520a-4944-8d00-02a96e2454ac",
   "metadata": {},
   "outputs": [
    {
     "name": "stdin",
     "output_type": "stream",
     "text": [
      "enter a string heello\n"
     ]
    },
    {
     "name": "stdout",
     "output_type": "stream",
     "text": [
      "h\n",
      "e\n",
      "e\n",
      "l\n",
      "l\n",
      "o\n"
     ]
    }
   ],
   "source": [
    "str1=input(\"enter a string\")\n",
    "for i in str1:\n",
    "    print(i)\n"
   ]
  },
  {
   "cell_type": "code",
   "execution_count": 72,
   "id": "83d838c4-ab46-4609-969f-e2d047ae218c",
   "metadata": {},
   "outputs": [
    {
     "name": "stdin",
     "output_type": "stream",
     "text": [
      "enter a number :  6\n"
     ]
    },
    {
     "name": "stdout",
     "output_type": "stream",
     "text": [
      "not prime\n"
     ]
    }
   ],
   "source": [
    "# prime number or not\n",
    "x=int(input(\"enter a number : \"))\n",
    "count=0\n",
    "if x<=0:\n",
    "    print(\"number not valid\")\n",
    "elif x==1:\n",
    "    print(\"1 is prime number\")\n",
    "else:\n",
    "    for i in range(2,x):\n",
    "        if x%i==0:\n",
    "            count+=1\n",
    "            break\n",
    "    if count==1:\n",
    "        print('not prime')\n",
    "    else:\n",
    "        print('prime')\n",
    "        "
   ]
  },
  {
   "cell_type": "code",
   "execution_count": 96,
   "id": "e9d58dfd-2569-4cd8-98f0-98a1ad483fd2",
   "metadata": {},
   "outputs": [
    {
     "name": "stdin",
     "output_type": "stream",
     "text": [
      "enter the number :  153\n"
     ]
    },
    {
     "name": "stdout",
     "output_type": "stream",
     "text": [
      "it is an amstrong number\n"
     ]
    }
   ],
   "source": [
    "# armstrong number \n",
    "num= int(input(\"enter the number : \"))\n",
    "sum=0\n",
    "n=num\n",
    "power= len(str(num))\n",
    "while num>0:\n",
    "    digit=num%10\n",
    "    sum += digit**power\n",
    "    num= num//10\n",
    "\n",
    "if sum==n:\n",
    "    print('it is an amstrong number')\n",
    "\n",
    "else:\n",
    "    print('the number is not amstrong number')"
   ]
  },
  {
   "cell_type": "code",
   "execution_count": 100,
   "id": "d4dd322d-8e91-4bd6-9ac8-cad54008898f",
   "metadata": {},
   "outputs": [
    {
     "name": "stdout",
     "output_type": "stream",
     "text": [
      "78\n"
     ]
    }
   ],
   "source": [
    "# second largest number in a list\n",
    "lis1=[2,89,56,34,78]\n",
    "lis1.sort()\n",
    "print(lis1[-2])"
   ]
  },
  {
   "cell_type": "code",
   "execution_count": 108,
   "id": "7694a2ef-7403-4387-9a6f-868d7bd3f987",
   "metadata": {},
   "outputs": [
    {
     "name": "stdin",
     "output_type": "stream",
     "text": [
      "enter a number :  2332\n"
     ]
    },
    {
     "name": "stdout",
     "output_type": "stream",
     "text": [
      "it is a palindrom\n"
     ]
    }
   ],
   "source": [
    "# palindrom of a number\n",
    "num= int(input(\"enter a number : \"))\n",
    "sum=0\n",
    "n=num\n",
    "while num>0:\n",
    "    digit=num%10\n",
    "    sum= (sum*10)+digit\n",
    "    num = num//10\n",
    "if n==sum:\n",
    "    print(\"it is a palindrom\")\n",
    "\n",
    "else:\n",
    "    print(\"it is not a palindrom\")"
   ]
  },
  {
   "cell_type": "code",
   "execution_count": 117,
   "id": "c52c35f0-bbab-4010-a490-212a69d307fe",
   "metadata": {},
   "outputs": [
    {
     "name": "stdin",
     "output_type": "stream",
     "text": [
      "enter the number of rows : 5\n"
     ]
    },
    {
     "name": "stdout",
     "output_type": "stream",
     "text": [
      "\n",
      "1 \n",
      "2 2 \n",
      "3 3 3 \n",
      "4 4 4 4 \n",
      "5 5 5 5 5 \n"
     ]
    }
   ],
   "source": [
    "#star patterns \n",
    "rows=int(input(\"enter the number of rows :\"))\n",
    "for i in range(rows+1):\n",
    "    for j in range(i):\n",
    "        print(i,end=' ')\n",
    "    print('')"
   ]
  },
  {
   "cell_type": "code",
   "execution_count": 127,
   "id": "711055c6-0a28-4cbb-ab80-c9b8b306ce24",
   "metadata": {},
   "outputs": [
    {
     "name": "stdin",
     "output_type": "stream",
     "text": [
      "enter the number of rows : 5\n"
     ]
    },
    {
     "name": "stdout",
     "output_type": "stream",
     "text": [
      "1 1 1 1 1 \n",
      "2 2 2 2 2 \n",
      "3 3 3 3 3 \n",
      "4 4 4 4 4 \n",
      "5 5 5 5 5 \n"
     ]
    }
   ],
   "source": [
    "#square patterns \n",
    "rows=int(input(\"enter the number of rows :\"))\n",
    "for i in range(1,rows+1):\n",
    "    for j in range(rows):\n",
    "        print(i,end=' ')\n",
    "    print('')"
   ]
  },
  {
   "cell_type": "code",
   "execution_count": 131,
   "id": "f9354ade-c927-4a2c-9f5f-6b8d9ec1ca7a",
   "metadata": {},
   "outputs": [
    {
     "name": "stdout",
     "output_type": "stream",
     "text": [
      " 0\n",
      " 1\n",
      " 2\n",
      " 3\n",
      " 4\n"
     ]
    }
   ],
   "source": [
    "# pascal triangle\n",
    "rows=5\n",
    "for i in range(rows):\n",
    "    print(''*(rows-1),end=' ')\n",
    "    print(i)"
   ]
  },
  {
   "cell_type": "code",
   "execution_count": 135,
   "id": "c29470ff-0db3-4375-a69f-d5284fa05ff1",
   "metadata": {},
   "outputs": [
    {
     "name": "stdout",
     "output_type": "stream",
     "text": [
      "[[ 3  6  9]\n",
      " [ 6 12 18]\n",
      " [ 9 18 27]]\n"
     ]
    }
   ],
   "source": [
    "# matrix multiplication\n",
    "import numpy as np\n",
    "a = np.array([[1,1,1],[2,2,2],[3,3,3]])\n",
    "b = np.array([[1,2,3],[1,2,3],[1,2,3]])\n",
    "c = np.dot(a,b)\n",
    "print(c)"
   ]
  },
  {
   "cell_type": "code",
   "execution_count": null,
   "id": "25867d10-008a-4980-9a17-bc4c38bbff03",
   "metadata": {},
   "outputs": [],
   "source": []
  }
 ],
 "metadata": {
  "kernelspec": {
   "display_name": "Python [conda env:base] *",
   "language": "python",
   "name": "conda-base-py"
  },
  "language_info": {
   "codemirror_mode": {
    "name": "ipython",
    "version": 3
   },
   "file_extension": ".py",
   "mimetype": "text/x-python",
   "name": "python",
   "nbconvert_exporter": "python",
   "pygments_lexer": "ipython3",
   "version": "3.12.7"
  }
 },
 "nbformat": 4,
 "nbformat_minor": 5
}
