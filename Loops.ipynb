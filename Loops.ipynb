{
 "cells": [
  {
   "cell_type": "markdown",
   "id": "c26d0c13-3301-4155-9fb7-5e5bcfdf30a5",
   "metadata": {},
   "source": [
    "**For Loop**"
   ]
  },
  {
   "cell_type": "code",
   "execution_count": 13,
   "id": "004f819a-79cb-4e4c-aee0-b73f69120bfd",
   "metadata": {},
   "outputs": [
    {
     "name": "stdout",
     "output_type": "stream",
     "text": [
      "0\n",
      "1\n",
      "2\n",
      "3\n",
      "4\n",
      "5\n",
      "6\n",
      "7\n",
      "8\n",
      "9\n"
     ]
    }
   ],
   "source": [
    "for i in range(10):\n",
    "    print(i)"
   ]
  },
  {
   "cell_type": "code",
   "execution_count": 17,
   "id": "62c51738-df8e-4ee0-8ac7-9630a121e56e",
   "metadata": {},
   "outputs": [
    {
     "name": "stdout",
     "output_type": "stream",
     "text": [
      "0 1 2 3 4 5 6 7 8 9 "
     ]
    }
   ],
   "source": [
    "for i in range(10):\n",
    "    print(i,end=' ')"
   ]
  },
  {
   "cell_type": "code",
   "execution_count": 21,
   "id": "2be94125-b859-4377-baa4-334e13e18265",
   "metadata": {},
   "outputs": [
    {
     "name": "stdout",
     "output_type": "stream",
     "text": [
      "10 11 12 13 14 15 16 17 18 19 "
     ]
    }
   ],
   "source": [
    "for i in range(10,20):\n",
    "    print(i,end=\" \")"
   ]
  },
  {
   "cell_type": "code",
   "execution_count": 25,
   "id": "23baf920-b6b1-4586-9637-a821a4c9cd7c",
   "metadata": {},
   "outputs": [
    {
     "name": "stdout",
     "output_type": "stream",
     "text": [
      "1 3 5 7 9 11 13 15 17 19 "
     ]
    }
   ],
   "source": [
    "for i in range(1,20,2):\n",
    "    print(i,end=\" \")"
   ]
  },
  {
   "cell_type": "code",
   "execution_count": 27,
   "id": "2d8225b8-f739-4186-a179-1490aac344cb",
   "metadata": {},
   "outputs": [
    {
     "name": "stdout",
     "output_type": "stream",
     "text": [
      "1 -1 -3 -5 -7 -9 -11 -13 -15 -17 -19 "
     ]
    }
   ],
   "source": [
    "for i in range(1,-20,-2):\n",
    "    print(i,end=\" \")"
   ]
  },
  {
   "cell_type": "code",
   "execution_count": 29,
   "id": "24a2c2a7-7847-4c41-b09f-192f24751195",
   "metadata": {},
   "outputs": [
    {
     "name": "stdout",
     "output_type": "stream",
     "text": [
      "A\n",
      "A\n",
      "A\n",
      "B\n",
      "B\n",
      "C\n",
      "C\n",
      "C\n"
     ]
    }
   ],
   "source": [
    "for i in range(3):\n",
    "    print('A')\n",
    "for i in range(2):\n",
    "    print('B')\n",
    "for i in range(3):\n",
    "    print('C')"
   ]
  },
  {
   "cell_type": "code",
   "execution_count": 33,
   "id": "15cbbe86-cc1f-4dad-be08-57157aed117f",
   "metadata": {},
   "outputs": [
    {
     "name": "stdout",
     "output_type": "stream",
     "text": [
      "the square of 10 is 100\n",
      "the square of 11 is 121\n",
      "the square of 12 is 144\n",
      "the square of 13 is 169\n",
      "the square of 14 is 196\n",
      "the square of 15 is 225\n"
     ]
    }
   ],
   "source": [
    "for i in range (10,16):\n",
    "    print(\"the square of {} is {}\".format(i,i**2))\n",
    "    "
   ]
  },
  {
   "cell_type": "code",
   "execution_count": 39,
   "id": "5621ccc5-f194-46a6-9a4a-3482cfe86bb9",
   "metadata": {},
   "outputs": [
    {
     "name": "stdin",
     "output_type": "stream",
     "text": [
      "enter start value :  2\n",
      "enter end value :  5\n"
     ]
    },
    {
     "name": "stdout",
     "output_type": "stream",
     "text": [
      "the square of 2 is 4\n",
      "the square of 3 is 9\n",
      "the square of 4 is 16\n"
     ]
    }
   ],
   "source": [
    "n1 = int(input(\"enter start value : \"))\n",
    "n2 = int(input(\"enter end value : \"))\n",
    "for i in range(n1,n2):\n",
    "    print(\"the square of {} is {}\".format(i,i**2))"
   ]
  },
  {
   "cell_type": "code",
   "execution_count": 41,
   "id": "d1f321f0-7631-4161-b340-82572284d724",
   "metadata": {},
   "outputs": [
    {
     "name": "stdin",
     "output_type": "stream",
     "text": [
      "enter start value :  4\n",
      "enter end value :  7\n"
     ]
    },
    {
     "name": "stdout",
     "output_type": "stream",
     "text": [
      "the square of 4 is 16\n",
      "the square of 5 is 25\n",
      "the square of 6 is 36\n"
     ]
    }
   ],
   "source": [
    "def square():\n",
    "    n1 = int(input(\"enter start value : \"))\n",
    "    n2 = int(input(\"enter end value : \"))\n",
    "    for i in range(n1,n2):\n",
    "        print(\"the square of {} is {}\".format(i,i**2))\n",
    "\n",
    "square()"
   ]
  },
  {
   "cell_type": "code",
   "execution_count": 43,
   "id": "ab2bcfda-2ae7-4182-bf42-cb6f1fa9fd7c",
   "metadata": {},
   "outputs": [
    {
     "name": "stdout",
     "output_type": "stream",
     "text": [
      "the square of 2 is 4\n",
      "the square of 3 is 9\n",
      "the square of 4 is 16\n",
      "the square of 5 is 25\n",
      "the square of 6 is 36\n"
     ]
    }
   ],
   "source": [
    "def square(n1,n2):\n",
    "    for i in range(n1,n2):\n",
    "        print(\"the square of {} is {}\".format(i,i**2))\n",
    "\n",
    "square(2,7)"
   ]
  },
  {
   "cell_type": "code",
   "execution_count": 53,
   "id": "97f004d0-1010-4b04-9c47-83792984555b",
   "metadata": {},
   "outputs": [
    {
     "name": "stdin",
     "output_type": "stream",
     "text": [
      "enter the number :  5\n"
     ]
    },
    {
     "name": "stdout",
     "output_type": "stream",
     "text": [
      "the square of 5 is 25\n"
     ]
    },
    {
     "name": "stdin",
     "output_type": "stream",
     "text": [
      "enter the number :  6\n"
     ]
    },
    {
     "name": "stdout",
     "output_type": "stream",
     "text": [
      "the square of 6 is 36\n"
     ]
    },
    {
     "name": "stdin",
     "output_type": "stream",
     "text": [
      "enter the number :  7\n"
     ]
    },
    {
     "name": "stdout",
     "output_type": "stream",
     "text": [
      "the square of 7 is 49\n"
     ]
    },
    {
     "name": "stdin",
     "output_type": "stream",
     "text": [
      "enter the number :  8\n"
     ]
    },
    {
     "name": "stdout",
     "output_type": "stream",
     "text": [
      "the square of 8 is 64\n"
     ]
    },
    {
     "name": "stdin",
     "output_type": "stream",
     "text": [
      "enter the number :  9\n"
     ]
    },
    {
     "name": "stdout",
     "output_type": "stream",
     "text": [
      "the square of 9 is 81\n",
      "None\n"
     ]
    }
   ],
   "source": [
    "def square():\n",
    "    for i in range(5):\n",
    "        s = int(input(\"enter the number : \"))\n",
    "        print(\"the square of {} is {}\".format(s,s**2))\n",
    "\n",
    "print(square())"
   ]
  },
  {
   "cell_type": "code",
   "execution_count": 55,
   "id": "fb3c72e3-e593-47b9-80e2-7724e0d3eed8",
   "metadata": {},
   "outputs": [
    {
     "name": "stdout",
     "output_type": "stream",
     "text": [
      "the square of 9 is 81\n",
      "the square of 13 is 169\n",
      "the square of 11 is 121\n",
      "the square of 12 is 144\n",
      "the square of 6 is 36\n"
     ]
    }
   ],
   "source": [
    "import random\n",
    "def square():\n",
    "    for i in range(5):\n",
    "        s = random.randint(1,20)\n",
    "        print(\"the square of {} is {}\".format(s,s**2))\n",
    "\n",
    "square()"
   ]
  },
  {
   "cell_type": "code",
   "execution_count": 57,
   "id": "da8fb60b-89ca-4098-b578-3da5d04cc3f7",
   "metadata": {},
   "outputs": [
    {
     "name": "stdout",
     "output_type": "stream",
     "text": [
      "the number 21 is odd\n",
      "the number 9 is odd\n",
      "the number 8 is even\n",
      "the number 18 is even\n",
      "the number 25 is odd\n"
     ]
    }
   ],
   "source": [
    "def even(n):\n",
    "    if(n%2==0):\n",
    "        print(\"the number {} is even\".format(n))\n",
    "    else:\n",
    "        print(\"the number {} is odd\".format(n))\n",
    "import random\n",
    "for i in range (5):\n",
    "    num = random.randint(1,30)\n",
    "    even(num)"
   ]
  },
  {
   "cell_type": "code",
   "execution_count": 25,
   "id": "6b682951-4bee-4823-b7ea-e163f63882c9",
   "metadata": {},
   "outputs": [
    {
     "name": "stdout",
     "output_type": "stream",
     "text": [
      "10\n"
     ]
    },
    {
     "name": "stdin",
     "output_type": "stream",
     "text": [
      "enter your number :  3\n"
     ]
    },
    {
     "name": "stdout",
     "output_type": "stream",
     "text": [
      "try again \n",
      " you have 2 chances left\n"
     ]
    },
    {
     "name": "stdin",
     "output_type": "stream",
     "text": [
      "enter your number :  4\n"
     ]
    },
    {
     "name": "stdout",
     "output_type": "stream",
     "text": [
      "try again \n",
      " you have 1 chances left\n"
     ]
    },
    {
     "name": "stdin",
     "output_type": "stream",
     "text": [
      "enter your number :  10\n"
     ]
    },
    {
     "name": "stdout",
     "output_type": "stream",
     "text": [
      "you won!!\n"
     ]
    }
   ],
   "source": [
    "import random \n",
    "n = random.randint(1,10)\n",
    "print(n)\n",
    "\n",
    "for i in range(3):\n",
    "    a = int(input(\"enter your number : \"))\n",
    "    if (n==a):\n",
    "        print(\"you won!!\")\n",
    "        break\n",
    "    else:\n",
    "        print(\"try again \\n you have {} chances left\".format(2-i))"
   ]
  },
  {
   "cell_type": "code",
   "execution_count": 45,
   "id": "42470c11-53c3-40f6-9204-3c7bbb1397c1",
   "metadata": {},
   "outputs": [
    {
     "name": "stdout",
     "output_type": "stream",
     "text": [
      "5\n"
     ]
    },
    {
     "name": "stdin",
     "output_type": "stream",
     "text": [
      "enter number of chances :  3\n",
      "enter your number :  6\n"
     ]
    },
    {
     "name": "stdout",
     "output_type": "stream",
     "text": [
      "try again \n",
      " you have 2 chances left\n"
     ]
    },
    {
     "name": "stdin",
     "output_type": "stream",
     "text": [
      "enter your number :  7\n"
     ]
    },
    {
     "name": "stdout",
     "output_type": "stream",
     "text": [
      "try again \n",
      " you have 1 chances left\n"
     ]
    },
    {
     "name": "stdin",
     "output_type": "stream",
     "text": [
      "enter your number :  8\n"
     ]
    },
    {
     "name": "stdout",
     "output_type": "stream",
     "text": [
      "you lost \n",
      " try after 5 min\n"
     ]
    }
   ],
   "source": [
    "import random \n",
    "n = random.randint(1,10)\n",
    "print(n)\n",
    "ch = int(input(\"enter number of chances : \"))\n",
    "for i in range(ch):\n",
    "    a = int(input(\"enter your number : \"))\n",
    "    if (n==a):\n",
    "        print(\"you won!!\")\n",
    "        break\n",
    "    else:\n",
    "        if i == ch-1:\n",
    "            print(\"you lost \\n try after 5 min\")\n",
    "        else:\n",
    "            print(\"try again \\n you have {} chances left\".format(ch-1-i))"
   ]
  },
  {
   "cell_type": "code",
   "execution_count": 8,
   "id": "5897fd29-fc1b-4d2e-8392-e731de3686fd",
   "metadata": {},
   "outputs": [
    {
     "name": "stdout",
     "output_type": "stream",
     "text": [
      "sum of first 10 natural numbers is 55\n"
     ]
    }
   ],
   "source": [
    "#sum of natural numbers \n",
    "summ=0\n",
    "for i in range(1,11):\n",
    "    summ += i\n",
    "print(\"sum of first {} natural numbers is {}\".format(i,summ))"
   ]
  },
  {
   "cell_type": "code",
   "execution_count": 10,
   "id": "96f0f7ee-5531-4578-8054-d291ff98c2a7",
   "metadata": {},
   "outputs": [
    {
     "name": "stdin",
     "output_type": "stream",
     "text": [
      "enter a number :  8\n"
     ]
    },
    {
     "name": "stdout",
     "output_type": "stream",
     "text": [
      "the sum of 8 natural numbers is 36\n"
     ]
    }
   ],
   "source": [
    "#user give the input\n",
    "\n",
    "n = int(input(\"enter a number : \"))\n",
    "summ=0\n",
    "for i in range(1,n+1):\n",
    "    summ += i\n",
    "\n",
    "print(\"the sum of {} natural numbers is {}\".format(i,summ))"
   ]
  },
  {
   "cell_type": "code",
   "execution_count": 26,
   "id": "8c156ca8-4a29-4fd2-a1c2-4aad686496f1",
   "metadata": {},
   "outputs": [
    {
     "name": "stdin",
     "output_type": "stream",
     "text": [
      "enter the factorial :  7\n"
     ]
    },
    {
     "name": "stdout",
     "output_type": "stream",
     "text": [
      "the factorial of  7 is  5040\n"
     ]
    }
   ],
   "source": [
    "#factorial of a number \n",
    "\n",
    "\n",
    "n = int(input(\"enter the factorial : \"))\n",
    "fact = 1\n",
    "for i in range(1,n+1):\n",
    "    fact *= i\n",
    "print(\"the factorial of \",n,\"is \",fact)"
   ]
  },
  {
   "cell_type": "code",
   "execution_count": 32,
   "id": "54b7eecf-f305-4f82-9543-da57940a7ecc",
   "metadata": {},
   "outputs": [
    {
     "name": "stdout",
     "output_type": "stream",
     "text": [
      "the num is  46\n",
      "the num is  6\n",
      "the num is  4\n",
      "the num is  62\n",
      "the num is  36\n",
      "the num is  85\n",
      "the num is  84\n",
      "the num is  49\n",
      "the num is  40\n",
      "the num is  96\n",
      "greater than 50 is 6 times\n",
      "less than 50 is 4 times\n"
     ]
    }
   ],
   "source": [
    "import random\n",
    "count_g = 0\n",
    "count_l = 0\n",
    "for i in range(10):\n",
    "    n = random.randint(1,99)\n",
    "    print(\"the num is \",n)\n",
    "    if n < 50:\n",
    "        count_g +=1\n",
    "    else:\n",
    "        count_l +=1\n",
    "print(\"greater than 50 is {} times\".format(count_g))\n",
    "print(\"less than 50 is {} times\".format(count_l))"
   ]
  },
  {
   "cell_type": "code",
   "execution_count": 39,
   "id": "4f05690f-b957-4b23-9d8a-3822ec478b6b",
   "metadata": {},
   "outputs": [
    {
     "name": "stdin",
     "output_type": "stream",
     "text": [
      "enter the number :  9\n"
     ]
    },
    {
     "name": "stdout",
     "output_type": "stream",
     "text": [
      "9 is divisible by1\n",
      "9 is divisible by3\n",
      "9 is divisible by9\n",
      "9 is divisible by 3 numbers\n",
      "9 is not divisible by 6 numbers\n"
     ]
    }
   ],
   "source": [
    "#divisors of  a number\n",
    "\n",
    "num = int(input(\"enter the number : \"))\n",
    "count_d =0\n",
    "count_n =0\n",
    "for i in range(1,num+1):\n",
    "    if num%i==0:\n",
    "        print(\"{} is divisible by{}\".format(num,i))\n",
    "        count_d +=1\n",
    "    else :\n",
    "        count_n +=1\n",
    "\n",
    "print(\"{} is divisible by {} numbers\".format(num,count_d))\n",
    "print(\"{} is not divisible by {} numbers\".format(num,count_n))"
   ]
  },
  {
   "cell_type": "code",
   "execution_count": null,
   "id": "b48d25d2-41e3-40e0-84ef-2f6fc5f2a42a",
   "metadata": {},
   "outputs": [],
   "source": []
  },
  {
   "cell_type": "markdown",
   "id": "4eceb368-90c1-4475-9c42-b2db9e988a80",
   "metadata": {},
   "source": [
    "**While loop**"
   ]
  },
  {
   "cell_type": "code",
   "execution_count": 50,
   "id": "49214c04-3474-45fa-a30f-942985e22f17",
   "metadata": {},
   "outputs": [],
   "source": [
    "#it is more like a conditional loop \n",
    "#because the condition has to satisfy in order to go into the loop"
   ]
  },
  {
   "cell_type": "code",
   "execution_count": 48,
   "id": "647089b4-d49a-4faf-b45a-778da26808bc",
   "metadata": {},
   "outputs": [
    {
     "name": "stdout",
     "output_type": "stream",
     "text": [
      "0\t1\t2\t3\t4\t"
     ]
    }
   ],
   "source": [
    "i = 0\n",
    "while(i<5):\n",
    "    print(i,end=\"\\t\")\n",
    "    i +=1\n",
    "    "
   ]
  },
  {
   "cell_type": "code",
   "execution_count": 52,
   "id": "6dfcdc7d-0021-48c0-b11e-c025ed8c2909",
   "metadata": {},
   "outputs": [
    {
     "name": "stdout",
     "output_type": "stream",
     "text": [
      "10\t11\t12\t13\t14\t15\t16\t17\t18\t19\t20\t"
     ]
    }
   ],
   "source": [
    "i = 10\n",
    "while(i<21):\n",
    "    print(i,end=\"\\t\")\n",
    "    i +=1\n",
    "    "
   ]
  },
  {
   "cell_type": "code",
   "execution_count": 54,
   "id": "c97e0d1e-1910-4b10-b651-fdb6f69ca54d",
   "metadata": {},
   "outputs": [
    {
     "name": "stdout",
     "output_type": "stream",
     "text": [
      "-1\t-2\t-3\t-4\t-5\t-6\t-7\t-8\t-9\t-10\t"
     ]
    }
   ],
   "source": [
    "i = -1\n",
    "while(i>-11):\n",
    "    print(i,end=\"\\t\")\n",
    "    i -=1\n",
    "    "
   ]
  },
  {
   "cell_type": "code",
   "execution_count": 60,
   "id": "181829ab-85b8-4c9e-b7ca-85ed0e2603c9",
   "metadata": {},
   "outputs": [
    {
     "name": "stdin",
     "output_type": "stream",
     "text": [
      "enter a number :  1\n",
      "enter a number :  2\n",
      "enter a number :  3\n",
      "enter a number :  4\n",
      "enter a number :  5\n"
     ]
    }
   ],
   "source": [
    "i=0\n",
    "while(i<5):\n",
    "    n = int(input(\"enter a number : \"))\n",
    "    i += 1"
   ]
  },
  {
   "cell_type": "code",
   "execution_count": 66,
   "id": "acd15540-2f36-4983-95c4-5c94f3d3a5aa",
   "metadata": {},
   "outputs": [
    {
     "name": "stdin",
     "output_type": "stream",
     "text": [
      "enter a number :  7\n"
     ]
    },
    {
     "name": "stdout",
     "output_type": "stream",
     "text": [
      "square of the number 7 is 49\n"
     ]
    },
    {
     "name": "stdin",
     "output_type": "stream",
     "text": [
      "enter a number :  8\n"
     ]
    },
    {
     "name": "stdout",
     "output_type": "stream",
     "text": [
      "square of the number 8 is 64\n"
     ]
    },
    {
     "name": "stdin",
     "output_type": "stream",
     "text": [
      "enter a number :  9\n"
     ]
    },
    {
     "name": "stdout",
     "output_type": "stream",
     "text": [
      "square of the number 9 is 81\n"
     ]
    },
    {
     "name": "stdin",
     "output_type": "stream",
     "text": [
      "enter a number :  5\n"
     ]
    },
    {
     "name": "stdout",
     "output_type": "stream",
     "text": [
      "square of the number 5 is 25\n"
     ]
    },
    {
     "name": "stdin",
     "output_type": "stream",
     "text": [
      "enter a number :  4\n"
     ]
    },
    {
     "name": "stdout",
     "output_type": "stream",
     "text": [
      "square of the number 4 is 16\n"
     ]
    }
   ],
   "source": [
    "i=0\n",
    "while(i<5):\n",
    "    n = int(input(\"enter a number : \"))\n",
    "    print(\"square of the number {} is {}\".format(n,n**2))\n",
    "    i += 1"
   ]
  },
  {
   "cell_type": "code",
   "execution_count": 68,
   "id": "cb293466-85fb-430d-8847-47fe7765ab13",
   "metadata": {},
   "outputs": [
    {
     "name": "stdout",
     "output_type": "stream",
     "text": [
      "square of the number 12 is 144\n",
      "square of the number 18 is 324\n",
      "square of the number 11 is 121\n",
      "square of the number 17 is 289\n",
      "square of the number 19 is 361\n"
     ]
    }
   ],
   "source": [
    "import random\n",
    "i=0\n",
    "while(i<5):\n",
    "    n = random.randint(10,20)\n",
    "    print(\"square of the number {} is {}\".format(n,n**2))\n",
    "    i += 1"
   ]
  },
  {
   "cell_type": "code",
   "execution_count": 74,
   "id": "8445874f-706e-4989-bd71-50e46bec37c6",
   "metadata": {},
   "outputs": [
    {
     "name": "stdout",
     "output_type": "stream",
     "text": [
      "the sum of 11 natuaral numbers is 55\n"
     ]
    }
   ],
   "source": [
    "i=0\n",
    "summ = 0\n",
    "while(i<11):\n",
    "    summ+= i\n",
    "    i += 1\n",
    "\n",
    "print(\"the sum of {} natuaral numbers is {}\".format(i,summ))"
   ]
  },
  {
   "cell_type": "code",
   "execution_count": 84,
   "id": "f7b46cd8-43e2-4f6f-b671-85220ccf2e0a",
   "metadata": {},
   "outputs": [
    {
     "name": "stdout",
     "output_type": "stream",
     "text": [
      "41,65,3,10,58,39,36,43,72,3,\n",
      "the sum is  370\n"
     ]
    }
   ],
   "source": [
    "import random\n",
    "i=0\n",
    "summ =0\n",
    "while i<10:\n",
    "    n = random.randint(1,100)\n",
    "    print(n,end=\",\")\n",
    "    summ += n\n",
    "    i +=1\n",
    "\n",
    "print(\"\\nthe sum is \",summ)"
   ]
  },
  {
   "cell_type": "code",
   "execution_count": 96,
   "id": "53e05167-fd7f-47b7-b2c9-7eeb7369e2a6",
   "metadata": {},
   "outputs": [
    {
     "name": "stdin",
     "output_type": "stream",
     "text": [
      "enter number of chances :  3\n",
      "enter your guess :  2\n"
     ]
    },
    {
     "name": "stdout",
     "output_type": "stream",
     "text": [
      "wrong guess try again\n"
     ]
    },
    {
     "name": "stdin",
     "output_type": "stream",
     "text": [
      "enter your guess :  3\n"
     ]
    },
    {
     "name": "stdout",
     "output_type": "stream",
     "text": [
      "wrong guess try again\n"
     ]
    },
    {
     "name": "stdin",
     "output_type": "stream",
     "text": [
      "enter your guess :  4\n"
     ]
    },
    {
     "name": "stdout",
     "output_type": "stream",
     "text": [
      "you lost \n",
      " try after 5 min\n"
     ]
    }
   ],
   "source": [
    "import random\n",
    "n = random.randint(1,10)\n",
    "ch = int(input(\"enter number of chances : \"))\n",
    "i=0\n",
    "while i<ch:\n",
    "    g = int(input(\"enter your guess : \"))\n",
    "    if n==g:\n",
    "        print(\"you won!!\")\n",
    "        break\n",
    "    else:\n",
    "        if i == ch-1:\n",
    "            print(\"you lost \\n try after 5 min\")\n",
    "        else:\n",
    "            print(\"wrong guess try again\")\n",
    "    i +=1"
   ]
  },
  {
   "cell_type": "code",
   "execution_count": null,
   "id": "f86047a1-b691-4b61-af7c-7ed87489f482",
   "metadata": {},
   "outputs": [],
   "source": []
  },
  {
   "cell_type": "code",
   "execution_count": null,
   "id": "ea9518f9-1a73-4695-ba41-6510ee9baab2",
   "metadata": {},
   "outputs": [],
   "source": []
  },
  {
   "cell_type": "code",
   "execution_count": null,
   "id": "e5934c21-9136-4bfe-adc7-8a015b82a439",
   "metadata": {},
   "outputs": [],
   "source": []
  },
  {
   "cell_type": "code",
   "execution_count": null,
   "id": "e0a37242-d884-4f76-b93f-358a133d87be",
   "metadata": {},
   "outputs": [],
   "source": []
  },
  {
   "cell_type": "code",
   "execution_count": null,
   "id": "1d5b7889-a9ec-4387-9f0f-9f8f286f976a",
   "metadata": {},
   "outputs": [],
   "source": []
  },
  {
   "cell_type": "code",
   "execution_count": null,
   "id": "5411fd3f-9755-469a-bbc8-473960402a75",
   "metadata": {},
   "outputs": [],
   "source": []
  },
  {
   "cell_type": "code",
   "execution_count": null,
   "id": "9726d5c6-c90a-4b60-8b53-c5a50e5e70cb",
   "metadata": {},
   "outputs": [],
   "source": []
  }
 ],
 "metadata": {
  "kernelspec": {
   "display_name": "Python [conda env:base] *",
   "language": "python",
   "name": "conda-base-py"
  },
  "language_info": {
   "codemirror_mode": {
    "name": "ipython",
    "version": 3
   },
   "file_extension": ".py",
   "mimetype": "text/x-python",
   "name": "python",
   "nbconvert_exporter": "python",
   "pygments_lexer": "ipython3",
   "version": "3.12.7"
  }
 },
 "nbformat": 4,
 "nbformat_minor": 5
}
