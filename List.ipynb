{
 "cells": [
  {
   "cell_type": "code",
   "execution_count": 2,
   "id": "da6de561-2a1f-4b21-b185-249bbfa752cd",
   "metadata": {},
   "outputs": [
    {
     "name": "stdout",
     "output_type": "stream",
     "text": [
      "['a', 'A', 1, 2, 2.3, 1.1223, True]\n"
     ]
    }
   ],
   "source": [
    "list1 = ['a','A',1,2,2.3,1.1223,True]\n",
    "print(list1)"
   ]
  },
  {
   "cell_type": "code",
   "execution_count": 6,
   "id": "63ed4fa4-0b9b-43f9-bc84-5373e01d1e2e",
   "metadata": {},
   "outputs": [],
   "source": [
    "#list items can be of any data type and can be a duplicate"
   ]
  },
  {
   "cell_type": "code",
   "execution_count": 10,
   "id": "4e5e4b35-0797-46f0-96d3-a949e83cbf1c",
   "metadata": {},
   "outputs": [
    {
     "data": {
      "text/plain": [
       "[[1, 2, 3, 4], ['a', 'b', 'c']]"
      ]
     },
     "execution_count": 10,
     "metadata": {},
     "output_type": "execute_result"
    }
   ],
   "source": [
    "list2 = [[1,2,3,4],['a','b','c']]\n",
    "list2    #list in list also works"
   ]
  },
  {
   "cell_type": "code",
   "execution_count": 12,
   "id": "2c2b37e2-1e8f-4317-83e1-4ed5dd19d7eb",
   "metadata": {},
   "outputs": [
    {
     "data": {
      "text/plain": [
       "list"
      ]
     },
     "execution_count": 12,
     "metadata": {},
     "output_type": "execute_result"
    }
   ],
   "source": [
    "type(list2)"
   ]
  },
  {
   "cell_type": "code",
   "execution_count": 34,
   "id": "b3684168-cd6c-4e9b-bc33-20a3a620ee74",
   "metadata": {},
   "outputs": [
    {
     "name": "stdout",
     "output_type": "stream",
     "text": [
      "6\n",
      "1\n",
      "21\n",
      "True\n",
      "False\n"
     ]
    }
   ],
   "source": [
    "list3 = [1,2,3,4,5,6]\n",
    "print(max(list3))\n",
    "print(min(list3))\n",
    "print(sum(list3))   #sum of all the values dont work for strings\n",
    "print(1 in list3)   #states the true or false\n",
    "print(8 in list3)"
   ]
  },
  {
   "cell_type": "code",
   "execution_count": 24,
   "id": "4316ad28-a42a-473d-86e3-87465543a213",
   "metadata": {},
   "outputs": [
    {
     "name": "stdout",
     "output_type": "stream",
     "text": [
      "d\n",
      "a\n"
     ]
    }
   ],
   "source": [
    "list4 = ['a','b','c','d']\n",
    "print(max(list4))\n",
    "print(min(list4))"
   ]
  },
  {
   "cell_type": "code",
   "execution_count": 46,
   "id": "68b2446e-1183-4ef0-8593-e4b6920cb94e",
   "metadata": {},
   "outputs": [],
   "source": [
    "a11 =(list3+list4)   #lists can be joined but we have to store in a variable"
   ]
  },
  {
   "cell_type": "code",
   "execution_count": 48,
   "id": "749c5eb5-7393-44e2-b038-c68245059681",
   "metadata": {},
   "outputs": [
    {
     "name": "stdout",
     "output_type": "stream",
     "text": [
      "[1, 2, 3, 4, 5, 6, 'a', 'b', 'c', 'd']\n"
     ]
    }
   ],
   "source": [
    "print(a11)"
   ]
  },
  {
   "cell_type": "code",
   "execution_count": 54,
   "id": "6d1e0fdc-4a2d-4257-8fbc-41bde4190fbc",
   "metadata": {},
   "outputs": [],
   "source": [
    "list1 = [1,2,3,4,5]\n",
    "list2 = [6,7,8,9,0]"
   ]
  },
  {
   "cell_type": "code",
   "execution_count": 66,
   "id": "d1bc17ed-c0a0-4325-8354-2b7dfc038c37",
   "metadata": {},
   "outputs": [
    {
     "name": "stdout",
     "output_type": "stream",
     "text": [
      "1 2 3 4 5 6 a b c d "
     ]
    }
   ],
   "source": [
    "for i in a11:\n",
    "    print(i,end=' ')"
   ]
  },
  {
   "cell_type": "code",
   "execution_count": 70,
   "id": "cfe4a4c3-5bc2-4ae6-99c1-4f2bde2d8a27",
   "metadata": {},
   "outputs": [
    {
     "name": "stdout",
     "output_type": "stream",
     "text": [
      "0 1\n",
      "1 2\n",
      "2 3\n",
      "3 4\n",
      "4 5\n"
     ]
    }
   ],
   "source": [
    "for i in range(len(list1)):\n",
    "    print(i,list1[i])"
   ]
  },
  {
   "cell_type": "code",
   "execution_count": 76,
   "id": "3d61dc56-7396-4cf4-a31e-726c1dc37f90",
   "metadata": {},
   "outputs": [
    {
     "name": "stdout",
     "output_type": "stream",
     "text": [
      "cat\n",
      "ab\n",
      "cd\n"
     ]
    }
   ],
   "source": [
    "list11 = ['apple','ball','cat','ab','cd']\n",
    "for i in range(len(list11)):\n",
    "    if len(list11[i])<=3:\n",
    "        print(list11[i])\n",
    "        "
   ]
  },
  {
   "cell_type": "code",
   "execution_count": 100,
   "id": "72979bc6-96ee-4310-9436-4bbcb2598c73",
   "metadata": {},
   "outputs": [
    {
     "name": "stdout",
     "output_type": "stream",
     "text": [
      "app#le\n",
      "ca#t\n"
     ]
    }
   ],
   "source": [
    "list11 = ['app#le','ball','ca#t','ab','cd']\n",
    "for i in range(len(list11)):\n",
    "    for a in list11[i]:\n",
    "        if a == '#':\n",
    "            print(list11[i])"
   ]
  },
  {
   "cell_type": "code",
   "execution_count": 112,
   "id": "5ac058d0-3b65-493f-ae20-d90d040399b1",
   "metadata": {},
   "outputs": [
    {
     "data": {
      "text/plain": [
       "'ball'"
      ]
     },
     "execution_count": 112,
     "metadata": {},
     "output_type": "execute_result"
    }
   ],
   "source": [
    "list12 = [1,2,3,['apple','ball']]\n",
    "list12[3][1]"
   ]
  },
  {
   "cell_type": "code",
   "execution_count": 116,
   "id": "7efcc445-0a07-469b-ab03-bcf60958d074",
   "metadata": {},
   "outputs": [
    {
     "name": "stdout",
     "output_type": "stream",
     "text": [
      "['apple', 100, 'cat', 'ab', 'cd']\n"
     ]
    }
   ],
   "source": [
    "list11 = ['apple','ball','cat','ab','cd']\n",
    "list11[1]=100\n",
    "print(list11)"
   ]
  },
  {
   "cell_type": "code",
   "execution_count": 122,
   "id": "3b7be411-e29f-4820-ad1d-a2626f5b2272",
   "metadata": {},
   "outputs": [
    {
     "data": {
      "text/plain": [
       "['ball', 'ca#t']"
      ]
     },
     "execution_count": 122,
     "metadata": {},
     "output_type": "execute_result"
    }
   ],
   "source": [
    "list11 = ['app#le','ball','ca#t','ab','cd']\n",
    "list11[1:3]"
   ]
  },
  {
   "cell_type": "code",
   "execution_count": 124,
   "id": "f50fdf8c-0291-4ab1-898b-4b5091699cc5",
   "metadata": {},
   "outputs": [
    {
     "data": {
      "text/plain": [
       "['cd', 'ab', 'ca#t', 'ball', 'app#le']"
      ]
     },
     "execution_count": 124,
     "metadata": {},
     "output_type": "execute_result"
    }
   ],
   "source": [
    "list11 = ['app#le','ball','ca#t','ab','cd']\n",
    "list11[::-1]"
   ]
  },
  {
   "cell_type": "code",
   "execution_count": 126,
   "id": "ffe76ad2-8a57-4600-8857-e39896ff1817",
   "metadata": {},
   "outputs": [
    {
     "data": {
      "text/plain": [
       "['app#le', 'ca#t', 'cd']"
      ]
     },
     "execution_count": 126,
     "metadata": {},
     "output_type": "execute_result"
    }
   ],
   "source": [
    "list11 = ['app#le','ball','ca#t','ab','cd']\n",
    "list11[::2]"
   ]
  },
  {
   "cell_type": "code",
   "execution_count": 128,
   "id": "219a4b19-900d-448a-b238-90a3eabfc08c",
   "metadata": {},
   "outputs": [
    {
     "data": {
      "text/plain": [
       "['__add__',\n",
       " '__class__',\n",
       " '__class_getitem__',\n",
       " '__contains__',\n",
       " '__delattr__',\n",
       " '__delitem__',\n",
       " '__dir__',\n",
       " '__doc__',\n",
       " '__eq__',\n",
       " '__format__',\n",
       " '__ge__',\n",
       " '__getattribute__',\n",
       " '__getitem__',\n",
       " '__getstate__',\n",
       " '__gt__',\n",
       " '__hash__',\n",
       " '__iadd__',\n",
       " '__imul__',\n",
       " '__init__',\n",
       " '__init_subclass__',\n",
       " '__iter__',\n",
       " '__le__',\n",
       " '__len__',\n",
       " '__lt__',\n",
       " '__mul__',\n",
       " '__ne__',\n",
       " '__new__',\n",
       " '__reduce__',\n",
       " '__reduce_ex__',\n",
       " '__repr__',\n",
       " '__reversed__',\n",
       " '__rmul__',\n",
       " '__setattr__',\n",
       " '__setitem__',\n",
       " '__sizeof__',\n",
       " '__str__',\n",
       " '__subclasshook__',\n",
       " 'append',\n",
       " 'clear',\n",
       " 'copy',\n",
       " 'count',\n",
       " 'extend',\n",
       " 'index',\n",
       " 'insert',\n",
       " 'pop',\n",
       " 'remove',\n",
       " 'reverse',\n",
       " 'sort']"
      ]
     },
     "execution_count": 128,
     "metadata": {},
     "output_type": "execute_result"
    }
   ],
   "source": [
    "dir([])"
   ]
  },
  {
   "cell_type": "code",
   "execution_count": 154,
   "id": "29fb6bca-42bb-4699-8d48-2394114e2f2b",
   "metadata": {},
   "outputs": [
    {
     "name": "stdout",
     "output_type": "stream",
     "text": [
      "[1, 2, 3, 4, 5, 6, 7]\n"
     ]
    }
   ],
   "source": [
    "list1 = [1,2,3,4,5,6,7]\n",
    "list2 = list1.copy()    #to copy one list items to another list\n",
    "print(list2)"
   ]
  },
  {
   "cell_type": "code",
   "execution_count": 156,
   "id": "73834dad-ab35-4cea-814d-d9197ae1b390",
   "metadata": {},
   "outputs": [
    {
     "name": "stdout",
     "output_type": "stream",
     "text": [
      "[1, 2, 3, 4, 5, 6, 7, 8]\n"
     ]
    }
   ],
   "source": [
    "list1.append(8)   #append used to add elements to the list\n",
    "print(list1)"
   ]
  },
  {
   "cell_type": "code",
   "execution_count": 160,
   "id": "cb8b6ff6-8a2e-404d-b028-1aa7e4730584",
   "metadata": {},
   "outputs": [
    {
     "name": "stdout",
     "output_type": "stream",
     "text": [
      "None\n",
      "[1, 2, 3, 4, 5, 6, 7, 8, 9, 9]\n"
     ]
    }
   ],
   "source": [
    "print(list1.append(9))  #we cant add 2 items at once but we can add a list\n",
    "print(list1)"
   ]
  },
  {
   "cell_type": "code",
   "execution_count": 162,
   "id": "616ece33-bd7a-4fe6-b9b5-d7939872146d",
   "metadata": {},
   "outputs": [
    {
     "name": "stdout",
     "output_type": "stream",
     "text": [
      "None\n"
     ]
    }
   ],
   "source": [
    "print(list1.append([11,12]))"
   ]
  },
  {
   "cell_type": "code",
   "execution_count": 164,
   "id": "7b49370d-1770-488c-9ff8-51e7db53f201",
   "metadata": {},
   "outputs": [
    {
     "name": "stdout",
     "output_type": "stream",
     "text": [
      "[1, 2, 3, 4, 5, 6, 7, 8, 9, 9, [11, 12]]\n"
     ]
    }
   ],
   "source": [
    "print(list1)"
   ]
  },
  {
   "cell_type": "code",
   "execution_count": 168,
   "id": "b874c072-1b27-4476-9a77-a1623aeffd15",
   "metadata": {},
   "outputs": [
    {
     "name": "stdout",
     "output_type": "stream",
     "text": [
      "[1, 4, 9, 16, 25]\n"
     ]
    }
   ],
   "source": [
    "list12 = [1,2,3,4,5]\n",
    "output=[]\n",
    "for i in list12:\n",
    "    output.append(i*i)  #we create an empty list and append the values into it\n",
    "print(output)"
   ]
  },
  {
   "cell_type": "code",
   "execution_count": 174,
   "id": "bf7a5c6c-ac0c-4152-bf05-bd4c0aae6f2e",
   "metadata": {},
   "outputs": [
    {
     "name": "stdout",
     "output_type": "stream",
     "text": [
      "['Hyd', 'Bngl', 'Delhi']\n"
     ]
    }
   ],
   "source": [
    "list13 = ['hyd','bngl','delhi']\n",
    "out = []\n",
    "for i in range(len(list13)):\n",
    "    out.append(list13[i].capitalize())     #we have to get the capital letter in the starting\n",
    "\n",
    "print(out)"
   ]
  },
  {
   "cell_type": "code",
   "execution_count": 176,
   "id": "d81f7e7c-73e8-444b-8563-1c335b926f51",
   "metadata": {},
   "outputs": [
    {
     "name": "stdout",
     "output_type": "stream",
     "text": [
      "['Hyd', 'Bngl', 'Delhi']\n"
     ]
    }
   ],
   "source": [
    "list13 = ['hyd','bngl','delhi']\n",
    "out = []\n",
    "for i in list13:\n",
    "    out.append(i.capitalize())     #we have to get the capital letter in the starting\n",
    "\n",
    "print(out)"
   ]
  },
  {
   "cell_type": "code",
   "execution_count": 178,
   "id": "f1a26c16-8a82-4542-b728-6324c27eb499",
   "metadata": {},
   "outputs": [
    {
     "name": "stdout",
     "output_type": "stream",
     "text": [
      "h#yd\n",
      "b#ngl\n"
     ]
    }
   ],
   "source": [
    "list14 = ['h#yd','b#ngl','delhi']\n",
    "for i in range(len(list14)):\n",
    "    for a in list14[i]:\n",
    "        if a=='#':\n",
    "            print(list14[i])"
   ]
  },
  {
   "cell_type": "markdown",
   "id": "83c6af1f-c9a2-44ef-bbb4-b0f5bbef1dc4",
   "metadata": {},
   "source": [
    "**list comprehension**"
   ]
  },
  {
   "cell_type": "code",
   "execution_count": 189,
   "id": "9fb9925d-9349-4051-a942-ef86d91b6528",
   "metadata": {},
   "outputs": [
    {
     "name": "stdout",
     "output_type": "stream",
     "text": [
      "[1, 4, 9, 16, 25, 36]\n",
      "[1, 4, 9, 16, 25, 36]\n"
     ]
    }
   ],
   "source": [
    "list15 = [1,2,3,4,5,6]\n",
    "output = []\n",
    "for i in list15:\n",
    "    output.append(i*i)\n",
    "print(output)  \n",
    "\n",
    "#can also be written as this \n",
    "\n",
    "out = [i*i for i in list15]\n",
    "print(out)"
   ]
  },
  {
   "cell_type": "code",
   "execution_count": 203,
   "id": "a463e961-eb0c-4fde-90b0-0948881e7a0f",
   "metadata": {},
   "outputs": [
    {
     "name": "stdout",
     "output_type": "stream",
     "text": [
      "['Hyd', 'Bngl', 'Delhi']\n",
      "['Hyd', 'Bngl', 'Delhi']\n"
     ]
    }
   ],
   "source": [
    "list13 = ['hyd','bngl','delhi']\n",
    "out = []\n",
    "for i in list13:\n",
    "    out.append(i.capitalize())    \n",
    "\n",
    "print(out)\n",
    "\n",
    "#this can be written as \n",
    "outp = [i.capitalize() for i in list13]\n",
    "print(outp)"
   ]
  },
  {
   "cell_type": "code",
   "execution_count": null,
   "id": "9ff2e656-da73-4524-9637-429fa90d36e9",
   "metadata": {},
   "outputs": [],
   "source": []
  },
  {
   "cell_type": "code",
   "execution_count": 199,
   "id": "acbb3fbd-0df6-456b-bd55-20f24cef4182",
   "metadata": {},
   "outputs": [
    {
     "name": "stdout",
     "output_type": "stream",
     "text": [
      "[1, 2, 3, 4, 5, 6, 7, 8, 9, 10, 11, 12, 13, 14, 15, 16, 17, 18, 19, 20]\n"
     ]
    }
   ],
   "source": [
    "#create a list of 1 to 20 numbers \n",
    "num = []\n",
    "for i in range(1,21):\n",
    "    num.append(i)\n",
    "\n",
    "print(num)"
   ]
  },
  {
   "cell_type": "code",
   "execution_count": 231,
   "id": "bd658dbe-ac3c-4b67-b677-b3aab1ce7fff",
   "metadata": {},
   "outputs": [
    {
     "name": "stdout",
     "output_type": "stream",
     "text": [
      "ab\n",
      "a\n"
     ]
    }
   ],
   "source": [
    "list15 = ['abcd','abc','ab','a']\n",
    "for i in range(len(list15)):\n",
    "    if len(list15[i])<3:\n",
    "        print(list15[i])\n"
   ]
  },
  {
   "cell_type": "code",
   "execution_count": 227,
   "id": "2d883540-3f32-4fcf-bd82-5a8461104c83",
   "metadata": {},
   "outputs": [
    {
     "name": "stdout",
     "output_type": "stream",
     "text": [
      "['odd:1', 'even:2', 'odd:3', 'even:4', 'odd:5', 'even:6', 'odd:7']\n",
      "['odd:1', 'even:2', 'odd:3', 'even:4', 'odd:5', 'even:6', 'odd:7']\n"
     ]
    }
   ],
   "source": [
    "list12 = [1,2,3,4,5,6,7]\n",
    "out =[]\n",
    "for i in list12:\n",
    "    if i%2==0:\n",
    "        out.append(\"even:{}\".format(i))\n",
    "    else:\n",
    "        out.append(\"odd:{}\".format(i))\n",
    "\n",
    "print(out)\n",
    "\n",
    "#can also be written as \n",
    "\n",
    "out1 = [\"even:{}\".format(i) if i%2==0 else \"odd:{}\".format(i) for i in list12]\n",
    "print(out1)"
   ]
  },
  {
   "cell_type": "code",
   "execution_count": 237,
   "id": "a5205dc4-dbc6-4cfa-ab17-69eed8fe46d4",
   "metadata": {},
   "outputs": [
    {
     "name": "stdout",
     "output_type": "stream",
     "text": [
      "the count of 'a':  3\n"
     ]
    }
   ],
   "source": [
    "list12 = [1,2,3,4,5,'a','b','c','a','b','a']\n",
    "print(\"the count of 'a': \",list12.count('a'))   #counts the value's presentation"
   ]
  },
  {
   "cell_type": "code",
   "execution_count": 243,
   "id": "16601573-f9a1-48a7-a708-0ff05757d353",
   "metadata": {},
   "outputs": [
    {
     "data": {
      "text/plain": [
       "['a', 'b', 'c', 1, 2, 3, 4, 5]"
      ]
     },
     "execution_count": 243,
     "metadata": {},
     "output_type": "execute_result"
    }
   ],
   "source": [
    "list1 = ['a','b','c']\n",
    "list2 = [1,2,3,4,5]\n",
    "list1.extend(list2)\n",
    "list1     #it extends the list values "
   ]
  },
  {
   "cell_type": "code",
   "execution_count": 249,
   "id": "942a849f-2576-4d60-9884-686f9f635dd6",
   "metadata": {},
   "outputs": [
    {
     "name": "stdout",
     "output_type": "stream",
     "text": [
      "n o h t y p "
     ]
    }
   ],
   "source": [
    "val = reversed('python')\n",
    "for i in val:\n",
    "    print(i,end=\" \")"
   ]
  },
  {
   "cell_type": "code",
   "execution_count": 255,
   "id": "3745737c-6e04-4ff6-bfd9-a4912e26fed4",
   "metadata": {},
   "outputs": [
    {
     "name": "stdout",
     "output_type": "stream",
     "text": [
      "54321"
     ]
    }
   ],
   "source": [
    "val2 = reversed('12345')\n",
    "for i in val2:\n",
    "    print(i,end=\"\")"
   ]
  },
  {
   "cell_type": "code",
   "execution_count": 280,
   "id": "f58e0449-d968-4da1-bef3-5183cc990651",
   "metadata": {},
   "outputs": [
    {
     "data": {
      "text/plain": [
       "[1, 2, 3, 4, 5, 'p', 'y', 't', 'h', 'o']"
      ]
     },
     "execution_count": 280,
     "metadata": {},
     "output_type": "execute_result"
    }
   ],
   "source": [
    "list12 = [1,2,3,4,5,'p','y','t','h','o','n']\n",
    "list12.pop()\n",
    "list12           #default it pops the last value"
   ]
  },
  {
   "cell_type": "code",
   "execution_count": 282,
   "id": "b5a0fdac-f222-4218-bc79-1a12e5301d0a",
   "metadata": {},
   "outputs": [
    {
     "data": {
      "text/plain": [
       "2"
      ]
     },
     "execution_count": 282,
     "metadata": {},
     "output_type": "execute_result"
    }
   ],
   "source": [
    "list12.pop(1)    #here 1 is the index"
   ]
  },
  {
   "cell_type": "code",
   "execution_count": 284,
   "id": "26a4ad22-af96-4772-aa91-3f50bb7103a6",
   "metadata": {},
   "outputs": [
    {
     "data": {
      "text/plain": [
       "[1, 3, 4, 5, 'p', 'y', 't', 'h', 'o']"
      ]
     },
     "execution_count": 284,
     "metadata": {},
     "output_type": "execute_result"
    }
   ],
   "source": [
    "list12"
   ]
  },
  {
   "cell_type": "code",
   "execution_count": 286,
   "id": "f84c741d-68fe-4396-94b7-51d2a7d6fdfc",
   "metadata": {},
   "outputs": [],
   "source": [
    "list12.remove('p')   #it removes the value that is given"
   ]
  },
  {
   "cell_type": "code",
   "execution_count": 288,
   "id": "ad9fd496-f5e1-4664-b757-02bbab637617",
   "metadata": {},
   "outputs": [
    {
     "data": {
      "text/plain": [
       "[1, 3, 4, 5, 'y', 't', 'h', 'o']"
      ]
     },
     "execution_count": 288,
     "metadata": {},
     "output_type": "execute_result"
    }
   ],
   "source": [
    "list12"
   ]
  },
  {
   "cell_type": "code",
   "execution_count": 294,
   "id": "b0785c11-a207-4512-aee1-88962b758591",
   "metadata": {},
   "outputs": [],
   "source": [
    "del list12[4]  #it removes the value based on the index value"
   ]
  },
  {
   "cell_type": "code",
   "execution_count": 296,
   "id": "da2275e6-577a-4846-af38-714b1d28d0bb",
   "metadata": {},
   "outputs": [
    {
     "data": {
      "text/plain": [
       "[1, 3, 4, 5, 'h', 'o']"
      ]
     },
     "execution_count": 296,
     "metadata": {},
     "output_type": "execute_result"
    }
   ],
   "source": [
    "list12"
   ]
  },
  {
   "cell_type": "code",
   "execution_count": 306,
   "id": "e09d302b-5ab7-4be1-af17-fb763c9d31e5",
   "metadata": {},
   "outputs": [
    {
     "data": {
      "text/plain": [
       "7"
      ]
     },
     "execution_count": 306,
     "metadata": {},
     "output_type": "execute_result"
    }
   ],
   "source": [
    "list12.index('o')    #ffinds the index of the value in the list"
   ]
  },
  {
   "cell_type": "code",
   "execution_count": 304,
   "id": "82214af2-8823-400b-adc9-e18e324d6635",
   "metadata": {},
   "outputs": [],
   "source": [
    "list12.insert(1,'p')   #it takes the index and the value to be inserted "
   ]
  },
  {
   "cell_type": "code",
   "execution_count": 302,
   "id": "1dc33e2d-a7ad-4cfd-b84f-4b6eb8f636cd",
   "metadata": {},
   "outputs": [
    {
     "data": {
      "text/plain": [
       "[1, 'p', 3, 4, 5, 'h', 'o']"
      ]
     },
     "execution_count": 302,
     "metadata": {},
     "output_type": "execute_result"
    }
   ],
   "source": [
    "list12"
   ]
  },
  {
   "cell_type": "code",
   "execution_count": 314,
   "id": "c11b141e-78c0-41bb-8ae8-015ebee8946f",
   "metadata": {},
   "outputs": [
    {
     "ename": "SyntaxError",
     "evalue": "invalid syntax (4035631878.py, line 2)",
     "output_type": "error",
     "traceback": [
      "\u001b[1;36m  Cell \u001b[1;32mIn[314], line 2\u001b[1;36m\u001b[0m\n\u001b[1;33m    list12 = sorted list13\u001b[0m\n\u001b[1;37m                    ^\u001b[0m\n\u001b[1;31mSyntaxError\u001b[0m\u001b[1;31m:\u001b[0m invalid syntax\n"
     ]
    }
   ],
   "source": [
    "list13 = [1,5,3,0,7,9]\n",
    "list12 = sorted list13\n",
    "print(list12)"
   ]
  },
  {
   "cell_type": "code",
   "execution_count": 312,
   "id": "ead1236f-a331-45e8-8959-aff19933bc46",
   "metadata": {},
   "outputs": [
    {
     "name": "stdout",
     "output_type": "stream",
     "text": [
      "Help on built-in function sorted in module builtins:\n",
      "\n",
      "sorted(iterable, /, *, key=None, reverse=False)\n",
      "    Return a new list containing all items from the iterable in ascending order.\n",
      "\n",
      "    A custom key function can be supplied to customize the sort order, and the\n",
      "    reverse flag can be set to request the result in descending order.\n",
      "\n"
     ]
    }
   ],
   "source": [
    "help(sorted)"
   ]
  },
  {
   "cell_type": "code",
   "execution_count": null,
   "id": "a4fb48e8-d1cf-4bdc-9017-9bba3c941858",
   "metadata": {},
   "outputs": [],
   "source": []
  }
 ],
 "metadata": {
  "kernelspec": {
   "display_name": "Python [conda env:base] *",
   "language": "python",
   "name": "conda-base-py"
  },
  "language_info": {
   "codemirror_mode": {
    "name": "ipython",
    "version": 3
   },
   "file_extension": ".py",
   "mimetype": "text/x-python",
   "name": "python",
   "nbconvert_exporter": "python",
   "pygments_lexer": "ipython3",
   "version": "3.12.7"
  }
 },
 "nbformat": 4,
 "nbformat_minor": 5
}
