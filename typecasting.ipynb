{
 "cells": [
  {
   "cell_type": "code",
   "execution_count": 1,
   "id": "e2c08eeb-3268-48f9-b8fc-5925c00ac345",
   "metadata": {},
   "outputs": [],
   "source": [
    "#type cating is changing one data type to another type\n"
   ]
  },
  {
   "cell_type": "code",
   "execution_count": 9,
   "id": "3b4d2b98-a711-46f2-a658-cff57e161c00",
   "metadata": {},
   "outputs": [
    {
     "data": {
      "text/plain": [
       "int"
      ]
     },
     "execution_count": 9,
     "metadata": {},
     "output_type": "execute_result"
    }
   ],
   "source": [
    "#integer to another types\n",
    "num = 100\n",
    "type(num)"
   ]
  },
  {
   "cell_type": "code",
   "execution_count": 11,
   "id": "5296c713-5c63-46c3-a7b7-3c791f18ed66",
   "metadata": {},
   "outputs": [
    {
     "data": {
      "text/plain": [
       "100.0"
      ]
     },
     "execution_count": 11,
     "metadata": {},
     "output_type": "execute_result"
    }
   ],
   "source": [
    "float(num)  #int to float"
   ]
  },
  {
   "cell_type": "code",
   "execution_count": 5,
   "id": "22865d28-a55d-4a84-9cf0-5fb3de419670",
   "metadata": {},
   "outputs": [
    {
     "data": {
      "text/plain": [
       "'100'"
      ]
     },
     "execution_count": 5,
     "metadata": {},
     "output_type": "execute_result"
    }
   ],
   "source": [
    "num = 100   #int to string\n",
    "str(num)"
   ]
  },
  {
   "cell_type": "code",
   "execution_count": 13,
   "id": "1fddd397-65ac-4f8b-abbf-3d6f09ba26d5",
   "metadata": {},
   "outputs": [
    {
     "data": {
      "text/plain": [
       "True"
      ]
     },
     "execution_count": 13,
     "metadata": {},
     "output_type": "execute_result"
    }
   ],
   "source": [
    "bool(num)   #int to boolean (other than 0 everything is true , negative also True)"
   ]
  },
  {
   "cell_type": "code",
   "execution_count": 11,
   "id": "0951da5c-3386-49b1-a0c4-d3746cdcb676",
   "metadata": {},
   "outputs": [
    {
     "data": {
      "text/plain": [
       "(100+0j)"
      ]
     },
     "execution_count": 11,
     "metadata": {},
     "output_type": "execute_result"
    }
   ],
   "source": [
    "complex(num)   #int to complex conjugate"
   ]
  },
  {
   "cell_type": "code",
   "execution_count": null,
   "id": "b03be958-8363-493d-9d45-b99a4fafcb8b",
   "metadata": {},
   "outputs": [],
   "source": []
  },
  {
   "cell_type": "code",
   "execution_count": 6,
   "id": "f8bc573c-fd42-448f-b923-f210a6c9102e",
   "metadata": {},
   "outputs": [
    {
     "data": {
      "text/plain": [
       "True"
      ]
     },
     "execution_count": 6,
     "metadata": {},
     "output_type": "execute_result"
    }
   ],
   "source": [
    "#string to other conversions\n",
    "name = 'apple'  #it is a string\n",
    "#int(name)  #its an error\n",
    "#float(name)  #its an error\n",
    "bool(name)   #it is true and if the string is empty it is false\n",
    "#complex(name) #it is also error"
   ]
  },
  {
   "cell_type": "code",
   "execution_count": null,
   "id": "ece21fae-1ccd-4f88-87ca-aae69ea87eaa",
   "metadata": {},
   "outputs": [],
   "source": []
  },
  {
   "cell_type": "code",
   "execution_count": null,
   "id": "d5634a9c-4d24-4e3d-8447-dfe75b56cd84",
   "metadata": {},
   "outputs": [],
   "source": []
  },
  {
   "cell_type": "code",
   "execution_count": null,
   "id": "8b48b2d6-8d7b-4eb9-8253-5159d73e25ac",
   "metadata": {},
   "outputs": [],
   "source": []
  }
 ],
 "metadata": {
  "kernelspec": {
   "display_name": "Python [conda env:base] *",
   "language": "python",
   "name": "conda-base-py"
  },
  "language_info": {
   "codemirror_mode": {
    "name": "ipython",
    "version": 3
   },
   "file_extension": ".py",
   "mimetype": "text/x-python",
   "name": "python",
   "nbconvert_exporter": "python",
   "pygments_lexer": "ipython3",
   "version": "3.12.7"
  }
 },
 "nbformat": 4,
 "nbformat_minor": 5
}
