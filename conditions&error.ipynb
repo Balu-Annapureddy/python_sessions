{
 "cells": [
  {
   "cell_type": "code",
   "execution_count": 11,
   "id": "0d517a88-a051-435d-abba-fe1441fd9436",
   "metadata": {},
   "outputs": [
    {
     "name": "stdout",
     "output_type": "stream",
     "text": [
      "hai\n",
      "hello\n"
     ]
    }
   ],
   "source": [
    "try:\n",
    "    print('hai')\n",
    "    a=a/0\n",
    "    print(a)\n",
    "except:\n",
    "    print('hello')"
   ]
  },
  {
   "cell_type": "code",
   "execution_count": 21,
   "id": "7fd269f6-87f5-40d1-a1e8-d53f72ba82d7",
   "metadata": {},
   "outputs": [
    {
     "name": "stdin",
     "output_type": "stream",
     "text": [
      "enter numbe 1:  5\n",
      "enter numbe 2:  5\n",
      "enter numbe 3:  5\n"
     ]
    },
    {
     "name": "stdout",
     "output_type": "stream",
     "text": [
      "the avg is : 5.0\n"
     ]
    }
   ],
   "source": [
    "try:\n",
    "    a = int(input(\"enter numbe 1: \"))\n",
    "    b = int(input(\"enter numbe 2: \"))\n",
    "    c = int(input(\"enter numbe 3: \"))\n",
    "    avg = (a+b+c)/3\n",
    "    print(\"the avg is :\",avg)\n",
    "except:\n",
    "    print(\"check the codde again \")"
   ]
  },
  {
   "cell_type": "code",
   "execution_count": 37,
   "id": "cc2c9982-064c-432e-8851-35bacf5f5597",
   "metadata": {},
   "outputs": [
    {
     "name": "stdin",
     "output_type": "stream",
     "text": [
      "enter numbe 1:  5\n",
      "enter numbe 2:  5\n",
      "enter numbe 3:  5\n"
     ]
    },
    {
     "name": "stdout",
     "output_type": "stream",
     "text": [
      "name 'c3' is not defined\n"
     ]
    }
   ],
   "source": [
    "try:\n",
    "    a = int(input(\"enter numbe 1: \"))\n",
    "    b = int(input(\"enter numbe 2: \"))\n",
    "    c = int(input(\"enter numbe 3: \"))\n",
    "    avg = (a+b+c3)/3\n",
    "    print(\"the avg is :\",avg)\n",
    "except Exception as e:  #we can use any name instead of e as well\n",
    "    print(e)   #the actual error itself will be printed"
   ]
  },
  {
   "cell_type": "code",
   "execution_count": 1,
   "id": "a9d7e3f6-953f-43fc-bf4a-35c0ef1e53d5",
   "metadata": {},
   "outputs": [
    {
     "name": "stdout",
     "output_type": "stream",
     "text": [
      "the 10 + 20 = 30 \n"
     ]
    }
   ],
   "source": [
    "num1 = 10\n",
    "num2 = 20\n",
    "print(\"the {} + {} = {} \".format(num1,num2,num1+num2))"
   ]
  },
  {
   "cell_type": "code",
   "execution_count": 5,
   "id": "d7e93d7d-1571-45d5-b801-dacf0087d2e8",
   "metadata": {},
   "outputs": [
    {
     "name": "stdin",
     "output_type": "stream",
     "text": [
      "enter a number : 5\n"
     ]
    },
    {
     "name": "stdout",
     "output_type": "stream",
     "text": [
      "this is odd number\n"
     ]
    }
   ],
   "source": [
    "n = int(input(\"enter a number :\"))\n",
    "if n%2==0:\n",
    "    print(\"this is a even number\")\n",
    "else:\n",
    "    print(\"this is odd number\")"
   ]
  },
  {
   "cell_type": "code",
   "execution_count": 11,
   "id": "2dadab66-f022-447b-b3de-cdd5747b8dd7",
   "metadata": {},
   "outputs": [
    {
     "name": "stdout",
     "output_type": "stream",
     "text": [
      "this 20\n"
     ]
    }
   ],
   "source": [
    "num1 =20\n",
    "num2 = 30\n",
    "print(f\"this {num1}\")"
   ]
  },
  {
   "cell_type": "code",
   "execution_count": 13,
   "id": "2489d952-bc59-457e-97ef-5631be4be9dc",
   "metadata": {},
   "outputs": [
    {
     "name": "stdin",
     "output_type": "stream",
     "text": [
      "enter a number : 0\n"
     ]
    },
    {
     "name": "stdout",
     "output_type": "stream",
     "text": [
      "this is a even number\n"
     ]
    }
   ],
   "source": [
    "try:\n",
    "    n = int(input(\"enter a number :\"))\n",
    "    if n%2==0:\n",
    "        print(\"this is a even number\")\n",
    "    else:\n",
    "        print(\"this is odd number\")\n",
    "except Exception as e:\n",
    "    print(e)"
   ]
  },
  {
   "cell_type": "code",
   "execution_count": 24,
   "id": "318f6b51-f38a-49d9-b051-d114b11c483e",
   "metadata": {},
   "outputs": [
    {
     "name": "stdout",
     "output_type": "stream",
     "text": [
      "46\n",
      "this is a even number\n"
     ]
    }
   ],
   "source": [
    "import random\n",
    "n = random.randint(1,50)\n",
    "print(n)\n",
    "try:\n",
    "    if n%2==0:\n",
    "        print(\"this is a even number\")\n",
    "    else:\n",
    "        print(\"this is a odd number\")\n",
    "except Exception as e:\n",
    "    print(e)"
   ]
  },
  {
   "cell_type": "code",
   "execution_count": 41,
   "id": "03ab8f5d-e29f-4cd2-8865-98d9f8ec3e97",
   "metadata": {},
   "outputs": [
    {
     "name": "stdout",
     "output_type": "stream",
     "text": [
      "78\n",
      "you won\n"
     ]
    }
   ],
   "source": [
    "import random\n",
    "num =random.randint(1,200)\n",
    "print(num)\n",
    "try:\n",
    "    if(10<num<99):\n",
    "        print(\"you won\")\n",
    "    else:\n",
    "        print(\"you lost\")\n",
    "except Exception as e:\n",
    "    print(e)"
   ]
  },
  {
   "cell_type": "code",
   "execution_count": 45,
   "id": "b1e0ceb1-3a03-4139-8471-83b6bd865442",
   "metadata": {},
   "outputs": [
    {
     "name": "stdout",
     "output_type": "stream",
     "text": [
      "division by zero\n"
     ]
    }
   ],
   "source": [
    "try:\n",
    "    num=90/0\n",
    "except Exception as e:\n",
    "    print(e)"
   ]
  },
  {
   "cell_type": "code",
   "execution_count": 55,
   "id": "0f86a429-a4dd-48aa-9df4-456ec2f92fc4",
   "metadata": {},
   "outputs": [
    {
     "name": "stdin",
     "output_type": "stream",
     "text": [
      "enter a number:  70\n"
     ]
    },
    {
     "name": "stdout",
     "output_type": "stream",
     "text": [
      "it is a positive number\n"
     ]
    }
   ],
   "source": [
    "try:\n",
    "    n = int(input(\"enter a number: \"))\n",
    "    if(n >= 0):\n",
    "        print(\"it is a positive number\")\n",
    "    else:\n",
    "        print(\"it is a negative number\")\n",
    "except Exception as e:\n",
    "    print(e)"
   ]
  },
  {
   "cell_type": "code",
   "execution_count": 65,
   "id": "6bb99369-6678-469f-b73f-d88e375de06e",
   "metadata": {},
   "outputs": [
    {
     "name": "stdin",
     "output_type": "stream",
     "text": [
      "enter your marks 90\n"
     ]
    },
    {
     "name": "stdout",
     "output_type": "stream",
     "text": [
      "grade is A\n"
     ]
    }
   ],
   "source": [
    "m= int(input(\"enter your marks\"))\n",
    "if(m >= 90):\n",
    "    print(\"grade is A\")\n",
    "elif(70 <= m <= 89):\n",
    "    print(\"grade is B\")\n",
    "elif(50 <= m <= 69):\n",
    "    print(\"grade is C\")\n",
    "else: \n",
    "    print(\"grade is D\")"
   ]
  },
  {
   "cell_type": "code",
   "execution_count": null,
   "id": "2596d280-c435-45d3-8348-2c3cfd066825",
   "metadata": {},
   "outputs": [],
   "source": []
  },
  {
   "cell_type": "code",
   "execution_count": null,
   "id": "1bac430a-4bd3-4704-91f4-13152d585a98",
   "metadata": {},
   "outputs": [],
   "source": []
  }
 ],
 "metadata": {
  "kernelspec": {
   "display_name": "Python [conda env:base] *",
   "language": "python",
   "name": "conda-base-py"
  },
  "language_info": {
   "codemirror_mode": {
    "name": "ipython",
    "version": 3
   },
   "file_extension": ".py",
   "mimetype": "text/x-python",
   "name": "python",
   "nbconvert_exporter": "python",
   "pygments_lexer": "ipython3",
   "version": "3.12.7"
  }
 },
 "nbformat": 4,
 "nbformat_minor": 5
}
