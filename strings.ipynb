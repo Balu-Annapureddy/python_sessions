{
 "cells": [
  {
   "cell_type": "markdown",
   "id": "cecbc349-020c-4b12-b33c-73f51a8aa22c",
   "metadata": {},
   "source": [
    "**how to read strings**"
   ]
  },
  {
   "cell_type": "code",
   "execution_count": 4,
   "id": "edc9b3f3-9088-4c58-99dd-f9ba86efd3dc",
   "metadata": {},
   "outputs": [
    {
     "name": "stdout",
     "output_type": "stream",
     "text": [
      "python\n",
      "python\n",
      "Doc string\n"
     ]
    }
   ],
   "source": [
    "string1 = \"python\"\n",
    "string2 = 'python'\n",
    "string3 = \"\"\"Doc string\"\"\"  #it is used to tell some information about the code\n",
    "print(string1)\n",
    "print(string2)\n",
    "print(string3)"
   ]
  },
  {
   "cell_type": "code",
   "execution_count": 10,
   "id": "e746e4f3-18be-4f86-a7a8-a0faff47c87b",
   "metadata": {},
   "outputs": [
    {
     "data": {
      "text/plain": [
       "'\\nthis is used to explain the client \\nabout the pyhton code \\n'"
      ]
     },
     "execution_count": 10,
     "metadata": {},
     "output_type": "execute_result"
    }
   ],
   "source": [
    "\"\"\"\n",
    "this is used to explain the client \n",
    "about the pyhton code \n",
    "\"\"\""
   ]
  },
  {
   "cell_type": "code",
   "execution_count": 12,
   "id": "b84e83ed-bd1e-48c5-b1d8-b2316ce8868f",
   "metadata": {},
   "outputs": [
    {
     "name": "stdout",
     "output_type": "stream",
     "text": [
      "this is 'python'\n",
      "this is \"python\"\n"
     ]
    }
   ],
   "source": [
    "string = \"this is 'python'\"\n",
    "string_ = 'this is \"python\"'\n",
    "print(string)\n",
    "print(string_)"
   ]
  },
  {
   "cell_type": "code",
   "execution_count": 18,
   "id": "66e6269d-aa5f-4c7f-92dc-007ac0485d9a",
   "metadata": {},
   "outputs": [
    {
     "data": {
      "text/plain": [
       "16"
      ]
     },
     "execution_count": 18,
     "metadata": {},
     "output_type": "execute_result"
    }
   ],
   "source": [
    "len(string)    #it gives the length of the string"
   ]
  },
  {
   "cell_type": "code",
   "execution_count": 20,
   "id": "a920ad8a-cee6-44ff-a041-e3ef946f836c",
   "metadata": {},
   "outputs": [
    {
     "data": {
      "text/plain": [
       "'y'"
      ]
     },
     "execution_count": 20,
     "metadata": {},
     "output_type": "execute_result"
    }
   ],
   "source": [
    "max(string)   #it gives the maximum value\n",
    "              #here ascii value of 'y' is more it gave that"
   ]
  },
  {
   "cell_type": "code",
   "execution_count": 42,
   "id": "3fa00ee4-83d6-45ec-b17b-952a56d48ce2",
   "metadata": {},
   "outputs": [
    {
     "name": "stdout",
     "output_type": "stream",
     "text": [
      "97\n",
      "65\n",
      "112\n"
     ]
    }
   ],
   "source": [
    "print(ord('a'))\n",
    "print(ord('A'))\n",
    "print(ord('p'))      #it gives the ascii value"
   ]
  },
  {
   "cell_type": "code",
   "execution_count": 26,
   "id": "3ba81379-6d2a-4c7e-9c95-5486b4b61277",
   "metadata": {},
   "outputs": [
    {
     "data": {
      "text/plain": [
       "'p'"
      ]
     },
     "execution_count": 26,
     "metadata": {},
     "output_type": "execute_result"
    }
   ],
   "source": [
    "chr(112)   #it gives the character belongs to that ascii value"
   ]
  },
  {
   "cell_type": "code",
   "execution_count": 36,
   "id": "659aea63-55d0-44de-a364-ce62259c7486",
   "metadata": {},
   "outputs": [
    {
     "name": "stdout",
     "output_type": "stream",
     "text": [
      "112\n",
      "121\n",
      "116\n",
      "104\n",
      "111\n",
      "110\n"
     ]
    }
   ],
   "source": [
    "ch = \"python\"   #we can impliment the loops like this\n",
    "for i in range(len(ch)):\n",
    "    print(ord(ch[i]))"
   ]
  },
  {
   "cell_type": "code",
   "execution_count": 46,
   "id": "3a79609e-f546-43e2-96a7-913967d03851",
   "metadata": {},
   "outputs": [
    {
     "name": "stdout",
     "output_type": "stream",
     "text": [
      "p\n",
      "y\n",
      "t\n",
      "h\n",
      "o\n",
      "n\n"
     ]
    }
   ],
   "source": [
    "for i in string1:\n",
    "    print(i)"
   ]
  },
  {
   "cell_type": "markdown",
   "id": "9043a760-db33-40d9-8225-eb13b3a4d0ad",
   "metadata": {},
   "source": [
    "- range() is used to take to integers inside range()\n",
    "- in is used for only string values "
   ]
  },
  {
   "cell_type": "code",
   "execution_count": 49,
   "id": "078f54da-910d-4fbe-9e88-f61836befb30",
   "metadata": {},
   "outputs": [
    {
     "name": "stdout",
     "output_type": "stream",
     "text": [
      "104\n",
      "101\n",
      "108\n",
      "108\n",
      "111\n"
     ]
    }
   ],
   "source": [
    "s =\"hello\"\n",
    "for i in s:\n",
    "    print(ord(i))"
   ]
  },
  {
   "cell_type": "code",
   "execution_count": 57,
   "id": "149ad8fc-b936-4c90-858d-6e03fb875394",
   "metadata": {},
   "outputs": [
    {
     "name": "stdout",
     "output_type": "stream",
     "text": [
      "A B C D E F G H I J K L M N O P Q R S T U V W X Y Z "
     ]
    }
   ],
   "source": [
    "for i in range (ord('A'),ord('Z')+1):\n",
    "    print(chr(i),end=\" \")"
   ]
  },
  {
   "cell_type": "code",
   "execution_count": 59,
   "id": "bbe0b65c-bf30-49e6-84b5-6723239919da",
   "metadata": {},
   "outputs": [
    {
     "data": {
      "text/plain": [
       "['Formatter',\n",
       " 'Template',\n",
       " '_ChainMap',\n",
       " '__all__',\n",
       " '__builtins__',\n",
       " '__cached__',\n",
       " '__doc__',\n",
       " '__file__',\n",
       " '__loader__',\n",
       " '__name__',\n",
       " '__package__',\n",
       " '__spec__',\n",
       " '_re',\n",
       " '_sentinel_dict',\n",
       " '_string',\n",
       " 'ascii_letters',\n",
       " 'ascii_lowercase',\n",
       " 'ascii_uppercase',\n",
       " 'capwords',\n",
       " 'digits',\n",
       " 'hexdigits',\n",
       " 'octdigits',\n",
       " 'printable',\n",
       " 'punctuation',\n",
       " 'whitespace']"
      ]
     },
     "execution_count": 59,
     "metadata": {},
     "output_type": "execute_result"
    }
   ],
   "source": [
    "import string\n",
    "dir(string)"
   ]
  },
  {
   "cell_type": "code",
   "execution_count": 61,
   "id": "8479027a-be92-4aed-a890-837af44a97b1",
   "metadata": {},
   "outputs": [
    {
     "name": "stdout",
     "output_type": "stream",
     "text": [
      "A B C D E F G H I J K L M N O P Q R S T U V W X Y Z "
     ]
    }
   ],
   "source": [
    "import string\n",
    "for i in string.ascii_uppercase:\n",
    "    print(i,end=\" \")"
   ]
  },
  {
   "cell_type": "code",
   "execution_count": 63,
   "id": "3bf42e93-344a-4956-9fc7-387f31590b03",
   "metadata": {},
   "outputs": [
    {
     "name": "stdout",
     "output_type": "stream",
     "text": [
      "a b c d e f g h i j k l m n o p q r s t u v w x y z "
     ]
    }
   ],
   "source": [
    "for i in string.ascii_lowercase:\n",
    "    print(i,end=\" \")"
   ]
  },
  {
   "cell_type": "code",
   "execution_count": 65,
   "id": "df577ca9-0790-4c5b-a4c3-68682e11bb8b",
   "metadata": {},
   "outputs": [
    {
     "name": "stdout",
     "output_type": "stream",
     "text": [
      "! \" # $ % & ' ( ) * + , - . / : ; < = > ? @ [ \\ ] ^ _ ` { | } ~ "
     ]
    }
   ],
   "source": [
    "for i in string.punctuation:\n",
    "    print(i,end=\" \")"
   ]
  },
  {
   "cell_type": "code",
   "execution_count": 72,
   "id": "9784762a-583d-4a34-8ec1-4a535c48003d",
   "metadata": {},
   "outputs": [
    {
     "name": "stdout",
     "output_type": "stream",
     "text": [
      "\u0001 \u0002 \u0003 \u0004 \u0005 \u0006 \u0007 \t \n",
      " \u000e \u000f \u0010 \u0011 \u0012 \u0013 \u0014 \u0015 \u0016 \u0017 \u0018 \u0019 \u001a \u001b \u001c",
      " \u001d",
      " \u001e",
      " \u001f   ! \" # $ % & ' ( ) * + , - . / 0 1 2 3 4 5 6 7 8 9 : ; < = > ? @ A B C D E F G H I J K L M N O P Q R S T U V W X Y Z [ \\ ] ^ _ ` a b c d e f g h i j k l m n o p q r s t u v w x y z { | } ~       ",
      "                             ¡ ¢ £ ¤ ¥ ¦ § ¨ © ª « ¬ ­ ® ¯ ° ± ² ³ ´ µ ¶ · ¸ ¹ º » ¼ ½ ¾ ¿ À Á Â Ã Ä Å Æ Ç È "
     ]
    }
   ],
   "source": [
    "for i in range(1,201):\n",
    "    print(chr(i),end=\" \")"
   ]
  },
  {
   "cell_type": "code",
   "execution_count": 76,
   "id": "8e9e3bc8-bc12-46aa-8340-859d4c4b8292",
   "metadata": {},
   "outputs": [
    {
     "name": "stdout",
     "output_type": "stream",
     "text": [
      "! \" # $ % & ' ( ) * + , - . / 0 1 2 3 4 5 6 7 8 9 : ; < = > ? @ A B C D E F G H I J K L M N O P Q R S T U V W X Y Z [ \\ ] ^ _ ` a b c d e f g h i j k l m n o p q r s t u v w x y z { | } ~ "
     ]
    }
   ],
   "source": [
    "for i in range(33,127):\n",
    "    print(chr(i),end=\" \")\n",
    "\n",
    "#ascii values start from 33 and end at 126"
   ]
  },
  {
   "cell_type": "code",
   "execution_count": 82,
   "id": "dfcc2228-fac2-4f1e-910b-99831341ef48",
   "metadata": {},
   "outputs": [
    {
     "name": "stdin",
     "output_type": "stream",
     "text": [
      "enter a string :  haii everyone am i looking good\n"
     ]
    },
    {
     "name": "stdout",
     "output_type": "stream",
     "text": [
      "there are 2 a's in the given string\n"
     ]
    }
   ],
   "source": [
    "a = input('enter a string : ')\n",
    "count = 0\n",
    "for i in a:\n",
    "    if i == 'a':\n",
    "        count +=1\n",
    "print(\"there are {} a's in the given string\".format(count))\n"
   ]
  },
  {
   "cell_type": "code",
   "execution_count": 90,
   "id": "0f1c2f81-21e7-434b-8c9d-62e840203d42",
   "metadata": {},
   "outputs": [
    {
     "name": "stdin",
     "output_type": "stream",
     "text": [
      "enter a string :  hii how are you\n"
     ]
    },
    {
     "name": "stdout",
     "output_type": "stream",
     "text": [
      "i i o a e o u \n",
      "there are 7 vowels in the given string\n"
     ]
    }
   ],
   "source": [
    "a = input('enter a string : ')\n",
    "count = 0\n",
    "for i in a:\n",
    "    if i=='a' or i=='e' or i=='i' or i=='o' or i=='u':\n",
    "        print(i,end=\" \")\n",
    "        count +=1\n",
    "print(\"\\nthere are {} vowels in the given string\".format(count))\n"
   ]
  },
  {
   "cell_type": "code",
   "execution_count": 94,
   "id": "e3ff6467-f762-4ae2-852f-947684ae6a62",
   "metadata": {},
   "outputs": [
    {
     "name": "stdin",
     "output_type": "stream",
     "text": [
      "enter a string :  hii how are you\n"
     ]
    },
    {
     "name": "stdout",
     "output_type": "stream",
     "text": [
      "i i o a e o u \n",
      "there are 7 vowels in the given string\n"
     ]
    }
   ],
   "source": [
    "a = input('enter a string : ')\n",
    "count = 0\n",
    "for i in a:\n",
    "    if i in 'aeiou':    #this is good way to write the code\n",
    "        print(i,end=\" \")\n",
    "        count +=1\n",
    "print(\"\\nthere are {} vowels in the given string\".format(count))\n"
   ]
  },
  {
   "cell_type": "code",
   "execution_count": 98,
   "id": "1e5ea89c-325d-4f62-8367-db44b99501fb",
   "metadata": {},
   "outputs": [
    {
     "name": "stdin",
     "output_type": "stream",
     "text": [
      "enter a string :  hiii how are you\n"
     ]
    },
    {
     "name": "stdout",
     "output_type": "stream",
     "text": [
      "i i i o a e o u \n",
      "there are 8 unique vowels in the given string \n",
      " they are iiioaeou\n"
     ]
    }
   ],
   "source": [
    "a = input('enter a string : ')\n",
    "count = 0\n",
    "string =''\n",
    "for i in a:\n",
    "    if i in 'aeiou':\n",
    "        string = string+i\n",
    "        print(i,end=\" \")\n",
    "        count +=1\n",
    "print(\"\\nthere are {} unique vowels in the given string \\n they are {}\".format(count,string))\n"
   ]
  },
  {
   "cell_type": "code",
   "execution_count": 102,
   "id": "0c66e176-591d-42d0-a5a8-12fb78fce99b",
   "metadata": {},
   "outputs": [
    {
     "data": {
      "text/plain": [
       "'hiiihaii'"
      ]
     },
     "execution_count": 102,
     "metadata": {},
     "output_type": "execute_result"
    }
   ],
   "source": [
    "str1 = 'hiii'\n",
    "str2 = 'haii'\n",
    "str1+str2"
   ]
  },
  {
   "cell_type": "code",
   "execution_count": 104,
   "id": "e62f298b-3c1e-401b-8f5a-64c46f47d9c0",
   "metadata": {},
   "outputs": [
    {
     "data": {
      "text/plain": [
       "'hiiihiiihiiihiii'"
      ]
     },
     "execution_count": 104,
     "metadata": {},
     "output_type": "execute_result"
    }
   ],
   "source": [
    "str1*4"
   ]
  },
  {
   "cell_type": "markdown",
   "id": "95df5196-54b7-482e-99e2-b5086a90dc8a",
   "metadata": {},
   "source": [
    "$index$\n"
   ]
  },
  {
   "cell_type": "code",
   "execution_count": 107,
   "id": "37f9804c-03ee-4789-8822-88c423b9322e",
   "metadata": {},
   "outputs": [
    {
     "name": "stdout",
     "output_type": "stream",
     "text": [
      "s\n",
      "t\n",
      "r\n",
      "i\n",
      "n\n",
      "g\n"
     ]
    }
   ],
   "source": [
    "a = 'string'\n",
    "for i in range(len(a)):\n",
    "    print(a[i])"
   ]
  },
  {
   "cell_type": "code",
   "execution_count": 113,
   "id": "a9e5332e-ef4d-4a04-8651-ba5fbb08879b",
   "metadata": {},
   "outputs": [
    {
     "name": "stdout",
     "output_type": "stream",
     "text": [
      "p y t h o n p y t h o n "
     ]
    }
   ],
   "source": [
    "string='python'\n",
    "for i in string:\n",
    "    print(i,end=\" \")\n",
    "for i in range(len(string)):\n",
    "    print(string[i],end=\" \")"
   ]
  },
  {
   "cell_type": "code",
   "execution_count": 117,
   "id": "dc76f965-b20b-4ed3-af55-a7c528c33e56",
   "metadata": {},
   "outputs": [
    {
     "data": {
      "text/plain": [
       "'n'"
      ]
     },
     "execution_count": 117,
     "metadata": {},
     "output_type": "execute_result"
    }
   ],
   "source": [
    "string[-1]   #negative index"
   ]
  },
  {
   "cell_type": "code",
   "execution_count": 133,
   "id": "46599d1e-dde9-44fc-ad0e-af9478f7875f",
   "metadata": {},
   "outputs": [
    {
     "name": "stdin",
     "output_type": "stream",
     "text": [
      "enter a string :  bujji\n"
     ]
    },
    {
     "name": "stdout",
     "output_type": "stream",
     "text": [
      "the index of b is -5\n",
      "the index of u is -4\n",
      "the index of j is -3\n",
      "the index of j is -2\n",
      "the index of i is -1\n"
     ]
    }
   ],
   "source": [
    "string = input(\"enter a string : \")\n",
    "for i in range (-len(string),0):    #if you want a negative index use this \n",
    "    print(\"the index of {} is {}\".format(string[i],i))"
   ]
  },
  {
   "cell_type": "code",
   "execution_count": 137,
   "id": "8f634b75-80a6-45d8-a998-508c75634a90",
   "metadata": {},
   "outputs": [
    {
     "name": "stdin",
     "output_type": "stream",
     "text": [
      "enter a name :  bujji\n"
     ]
    },
    {
     "name": "stdout",
     "output_type": "stream",
     "text": [
      "b u j j i "
     ]
    }
   ],
   "source": [
    "string = input(\"enter a name : \")\n",
    "i=0\n",
    "while i < len(string):\n",
    "    print(string[i],end=\" \")\n",
    "    i +=1"
   ]
  },
  {
   "cell_type": "code",
   "execution_count": null,
   "id": "b2bfabff-bdb3-4416-ab8b-dc6daea6f5d3",
   "metadata": {},
   "outputs": [],
   "source": []
  },
  {
   "cell_type": "markdown",
   "id": "89f36bd7-54ac-4d19-90c6-0e18d196c9e6",
   "metadata": {},
   "source": [
    "**mutable and immutable concepts**"
   ]
  },
  {
   "cell_type": "code",
   "execution_count": 142,
   "id": "c5d337ae-c5a2-4b34-be34-33d7f724abb8",
   "metadata": {},
   "outputs": [
    {
     "ename": "TypeError",
     "evalue": "'str' object does not support item assignment",
     "output_type": "error",
     "traceback": [
      "\u001b[1;31m---------------------------------------------------------------------------\u001b[0m",
      "\u001b[1;31mTypeError\u001b[0m                                 Traceback (most recent call last)",
      "Cell \u001b[1;32mIn[142], line 2\u001b[0m\n\u001b[0;32m      1\u001b[0m str1 \u001b[38;5;241m=\u001b[39m \u001b[38;5;124m'\u001b[39m\u001b[38;5;124mpython\u001b[39m\u001b[38;5;124m'\u001b[39m   \u001b[38;5;66;03m#strings are immutable in index oprerations\u001b[39;00m\n\u001b[1;32m----> 2\u001b[0m str1[\u001b[38;5;241m0\u001b[39m] \u001b[38;5;241m=\u001b[39m \u001b[38;5;124m'\u001b[39m\u001b[38;5;124mP\u001b[39m\u001b[38;5;124m'\u001b[39m\n",
      "\u001b[1;31mTypeError\u001b[0m: 'str' object does not support item assignment"
     ]
    }
   ],
   "source": [
    "str1 = 'python'   #strings are immutable in index oprerations\n",
    "str1[0] = 'P'"
   ]
  },
  {
   "cell_type": "markdown",
   "id": "0f139e3b-7be4-443c-87df-407056b74896",
   "metadata": {},
   "source": [
    "**slicing**"
   ]
  },
  {
   "cell_type": "code",
   "execution_count": 145,
   "id": "04678517-88c3-4f47-8a1a-19a9c7786fe2",
   "metadata": {},
   "outputs": [
    {
     "data": {
      "text/plain": [
       "'ii'"
      ]
     },
     "execution_count": 145,
     "metadata": {},
     "output_type": "execute_result"
    }
   ],
   "source": [
    "string = \"hii how are you\"\n",
    "string[1:3]"
   ]
  },
  {
   "cell_type": "code",
   "execution_count": 147,
   "id": "c25b11af-9df9-443d-a24a-f20c85ebfa64",
   "metadata": {},
   "outputs": [
    {
     "data": {
      "text/plain": [
       "'i o r'"
      ]
     },
     "execution_count": 147,
     "metadata": {},
     "output_type": "execute_result"
    }
   ],
   "source": [
    "string[1:10:2]"
   ]
  },
  {
   "cell_type": "code",
   "execution_count": 149,
   "id": "8b6f0482-8079-48a0-af27-10d67ab8e234",
   "metadata": {},
   "outputs": [
    {
     "data": {
      "text/plain": [
       "'hihwaeyu'"
      ]
     },
     "execution_count": 149,
     "metadata": {},
     "output_type": "execute_result"
    }
   ],
   "source": [
    "string[::2]"
   ]
  },
  {
   "cell_type": "code",
   "execution_count": 181,
   "id": "8d4975ee-0e09-415e-b321-64c6dd8997d6",
   "metadata": {},
   "outputs": [
    {
     "data": {
      "text/plain": [
       "['Formatter',\n",
       " 'Template',\n",
       " '_ChainMap',\n",
       " '__all__',\n",
       " '__builtins__',\n",
       " '__cached__',\n",
       " '__doc__',\n",
       " '__file__',\n",
       " '__loader__',\n",
       " '__name__',\n",
       " '__package__',\n",
       " '__spec__',\n",
       " '_re',\n",
       " '_sentinel_dict',\n",
       " '_string',\n",
       " 'ascii_letters',\n",
       " 'ascii_lowercase',\n",
       " 'ascii_uppercase',\n",
       " 'capwords',\n",
       " 'digits',\n",
       " 'hexdigits',\n",
       " 'octdigits',\n",
       " 'printable',\n",
       " 'punctuation',\n",
       " 'whitespace']"
      ]
     },
     "execution_count": 181,
     "metadata": {},
     "output_type": "execute_result"
    }
   ],
   "source": [
    "import string\n",
    "dir(string)"
   ]
  },
  {
   "cell_type": "code",
   "execution_count": 8,
   "id": "2e2660e7-e1b5-4219-9aa0-e1ad98037075",
   "metadata": {},
   "outputs": [
    {
     "data": {
      "text/plain": [
       "'Hello'"
      ]
     },
     "execution_count": 8,
     "metadata": {},
     "output_type": "execute_result"
    }
   ],
   "source": [
    "import string\n",
    "string1 = \"hello\"\n",
    "string2 = \"HELLO\"\n",
    "string.capwords(string1)"
   ]
  },
  {
   "cell_type": "code",
   "execution_count": 32,
   "id": "b4e27e1a-b790-4fbb-99ea-6f2e6d807f69",
   "metadata": {},
   "outputs": [
    {
     "data": {
      "text/plain": [
       "'Hii guys how are you ?'"
      ]
     },
     "execution_count": 32,
     "metadata": {},
     "output_type": "execute_result"
    }
   ],
   "source": [
    "string1.capitalize()   #capitalize the very first letter"
   ]
  },
  {
   "cell_type": "code",
   "execution_count": 197,
   "id": "d0197a1e-bcaa-41cc-a3e0-fa8827ff5de1",
   "metadata": {},
   "outputs": [
    {
     "data": {
      "text/plain": [
       "'HELLO'"
      ]
     },
     "execution_count": 197,
     "metadata": {},
     "output_type": "execute_result"
    }
   ],
   "source": [
    "string1.upper()"
   ]
  },
  {
   "cell_type": "code",
   "execution_count": 201,
   "id": "2d273bb5-ef0e-4cd9-92c3-adb4e277cabf",
   "metadata": {},
   "outputs": [
    {
     "data": {
      "text/plain": [
       "'hello'"
      ]
     },
     "execution_count": 201,
     "metadata": {},
     "output_type": "execute_result"
    }
   ],
   "source": [
    "string2.lower()"
   ]
  },
  {
   "cell_type": "code",
   "execution_count": 203,
   "id": "83143f79-67e5-4cc2-8a11-7d5b92433bfe",
   "metadata": {},
   "outputs": [
    {
     "data": {
      "text/plain": [
       "'Hello'"
      ]
     },
     "execution_count": 203,
     "metadata": {},
     "output_type": "execute_result"
    }
   ],
   "source": [
    "string2.capitalize()"
   ]
  },
  {
   "cell_type": "code",
   "execution_count": 209,
   "id": "1c79d65d-d1a4-43fd-8541-5a19d907e50e",
   "metadata": {},
   "outputs": [
    {
     "data": {
      "text/plain": [
       "2"
      ]
     },
     "execution_count": 209,
     "metadata": {},
     "output_type": "execute_result"
    }
   ],
   "source": [
    "string1.count('l')   #it is counting the number of l's in the string"
   ]
  },
  {
   "cell_type": "code",
   "execution_count": 10,
   "id": "c8cb058e-90fa-4ec0-94d5-75580f2af895",
   "metadata": {},
   "outputs": [
    {
     "data": {
      "text/plain": [
       "'heLLo'"
      ]
     },
     "execution_count": 10,
     "metadata": {},
     "output_type": "execute_result"
    }
   ],
   "source": [
    "string1.replace('l','L')  #replace the first value with the second value"
   ]
  },
  {
   "cell_type": "code",
   "execution_count": 4,
   "id": "a4dc43aa-1eb2-47af-88ce-6a66de0a6ded",
   "metadata": {},
   "outputs": [
    {
     "data": {
      "text/plain": [
       "'welcome'"
      ]
     },
     "execution_count": 4,
     "metadata": {},
     "output_type": "execute_result"
    }
   ],
   "source": [
    "string = \"welCOMe\"    #convert to lowercase\n",
    "string.casefold()"
   ]
  },
  {
   "cell_type": "code",
   "execution_count": 20,
   "id": "69e81cc6-b9fa-485f-a5c4-6759f918dfab",
   "metadata": {},
   "outputs": [
    {
     "data": {
      "text/plain": [
       "5"
      ]
     },
     "execution_count": 20,
     "metadata": {},
     "output_type": "execute_result"
    }
   ],
   "source": [
    "string1 = \"hii guys how are you ?\"\n",
    "string1.count('i')\n",
    "string1.count(' ')   #counting the spaces"
   ]
  },
  {
   "cell_type": "code",
   "execution_count": 26,
   "id": "e03ae79f-b2c6-4dac-abfa-bf264ae60c1e",
   "metadata": {},
   "outputs": [
    {
     "data": {
      "text/plain": [
       "4"
      ]
     },
     "execution_count": 26,
     "metadata": {},
     "output_type": "execute_result"
    }
   ],
   "source": [
    "string1.count(' ',4)  #it is checking the no of spaces after 4th index"
   ]
  },
  {
   "cell_type": "code",
   "execution_count": 30,
   "id": "bdca2cf5-11e3-4e13-aaa1-a9d27551433c",
   "metadata": {},
   "outputs": [
    {
     "data": {
      "text/plain": [
       "1"
      ]
     },
     "execution_count": 30,
     "metadata": {},
     "output_type": "execute_result"
    }
   ],
   "source": [
    "string1.count(' ',4,10)   #it is checking the spaces between 4 and 10th indexes"
   ]
  },
  {
   "cell_type": "code",
   "execution_count": 36,
   "id": "b7135cad-c6db-4d2c-ba36-464d0993166e",
   "metadata": {},
   "outputs": [
    {
     "data": {
      "text/plain": [
       "2"
      ]
     },
     "execution_count": 36,
     "metadata": {},
     "output_type": "execute_result"
    }
   ],
   "source": [
    "string1.count('I'.lower())  #can use methods in here also"
   ]
  },
  {
   "cell_type": "code",
   "execution_count": null,
   "id": "00c9545b-56eb-4828-876b-5a6c45e353b6",
   "metadata": {},
   "outputs": [],
   "source": []
  },
  {
   "cell_type": "markdown",
   "id": "e0f86d4f-0424-4476-af11-71fb8c43b515",
   "metadata": {},
   "source": [
    "**we are using the python code without using any buit in methods**"
   ]
  },
  {
   "cell_type": "code",
   "execution_count": 57,
   "id": "1fa81982-8c8f-4c14-b408-4d103b862e30",
   "metadata": {},
   "outputs": [
    {
     "name": "stdout",
     "output_type": "stream",
     "text": [
      "count is : 5\n"
     ]
    }
   ],
   "source": [
    "string = 'i am here to be the best'\n",
    "count =0\n",
    "for i in string:\n",
    "    if i=='e':\n",
    "        count +=1\n",
    "print('count is :',count)"
   ]
  },
  {
   "cell_type": "code",
   "execution_count": 59,
   "id": "4c144f2c-412c-46fd-98e7-027aba28e5e0",
   "metadata": {},
   "outputs": [
    {
     "data": {
      "text/plain": [
       "5"
      ]
     },
     "execution_count": 59,
     "metadata": {},
     "output_type": "execute_result"
    }
   ],
   "source": [
    "string.count('e')"
   ]
  },
  {
   "cell_type": "code",
   "execution_count": 52,
   "id": "e165c366-e964-4e4a-86fa-3f37bf93feba",
   "metadata": {},
   "outputs": [
    {
     "name": "stdout",
     "output_type": "stream",
     "text": [
      "count of ola is : 3\n"
     ]
    }
   ],
   "source": [
    "string = 'ola ola ola'     #very important \n",
    "c = 0\n",
    "for i in range(len(string)):\n",
    "    if string[i:i+3] =='ola':   \n",
    "        c +=1\n",
    "print('count of ola is :',c)"
   ]
  },
  {
   "cell_type": "code",
   "execution_count": 54,
   "id": "ab30e082-883a-4409-aa4a-33022cc2973d",
   "metadata": {},
   "outputs": [
    {
     "data": {
      "text/plain": [
       "3"
      ]
     },
     "execution_count": 54,
     "metadata": {},
     "output_type": "execute_result"
    }
   ],
   "source": [
    "string.count('ola')"
   ]
  },
  {
   "cell_type": "code",
   "execution_count": 69,
   "id": "6a4b4643-7ce7-4328-980b-85589db457a4",
   "metadata": {},
   "outputs": [
    {
     "name": "stdout",
     "output_type": "stream",
     "text": [
      "Restart\n"
     ]
    },
    {
     "data": {
      "text/plain": [
       "'Restart'"
      ]
     },
     "execution_count": 69,
     "metadata": {},
     "output_type": "execute_result"
    }
   ],
   "source": [
    "string = 'restart'\n",
    "str1 = string[0]\n",
    "str2 = string[1:]\n",
    "print(str1.upper()+str2)\n",
    "string.capitalize()"
   ]
  },
  {
   "cell_type": "code",
   "execution_count": 73,
   "id": "1b89f5e1-abef-4d2c-86ea-18a4dd7df93c",
   "metadata": {},
   "outputs": [
    {
     "data": {
      "text/plain": [
       "'re$tart'"
      ]
     },
     "execution_count": 73,
     "metadata": {},
     "output_type": "execute_result"
    }
   ],
   "source": [
    "string.replace('s','$')  #replace s with $"
   ]
  },
  {
   "cell_type": "code",
   "execution_count": 77,
   "id": "22056684-fbb2-45fa-9ae2-d7089fd560b5",
   "metadata": {},
   "outputs": [
    {
     "data": {
      "text/plain": [
       "'Restart'"
      ]
     },
     "execution_count": 77,
     "metadata": {},
     "output_type": "execute_result"
    }
   ],
   "source": [
    "string.replace('r','R',1)   #it wont repalce all the r's \n",
    "                            #present in the string only 1 will be converted'"
   ]
  },
  {
   "cell_type": "code",
   "execution_count": 81,
   "id": "5ebea781-191a-4e7c-9294-ad228a759d72",
   "metadata": {},
   "outputs": [
    {
     "data": {
      "text/plain": [
       "'RRRrrrrrrrr'"
      ]
     },
     "execution_count": 81,
     "metadata": {},
     "output_type": "execute_result"
    }
   ],
   "source": [
    "str3 = \"rrrrrrrrrrr\"\n",
    "str3.replace('r','R',3)"
   ]
  },
  {
   "cell_type": "code",
   "execution_count": 91,
   "id": "517325c6-4824-44e6-87a8-2a3c301c48c7",
   "metadata": {},
   "outputs": [
    {
     "data": {
      "text/plain": [
       "'resta$t'"
      ]
     },
     "execution_count": 91,
     "metadata": {},
     "output_type": "execute_result"
    }
   ],
   "source": [
    "string = 'restart'\n",
    "s1 = string[0]\n",
    "s2 = string[1:].replace('r','$')   #replacing the second r \n",
    "s1+s2"
   ]
  },
  {
   "cell_type": "code",
   "execution_count": 95,
   "id": "7654130e-6f9b-43ac-9b4e-b80554a52b99",
   "metadata": {},
   "outputs": [
    {
     "data": {
      "text/plain": [
       "'resta$t'"
      ]
     },
     "execution_count": 95,
     "metadata": {},
     "output_type": "execute_result"
    }
   ],
   "source": [
    "string [::-1].replace('r','$',1)[::-1]  #we reverse the string and then we replace again reverse the string"
   ]
  },
  {
   "cell_type": "code",
   "execution_count": 97,
   "id": "b2f45e1a-cc8f-45df-b8d9-d90010a91de5",
   "metadata": {},
   "outputs": [
    {
     "data": {
      "text/plain": [
       "3"
      ]
     },
     "execution_count": 97,
     "metadata": {},
     "output_type": "execute_result"
    }
   ],
   "source": [
    "string11 = 'welcome python'\n",
    "string11.index('c')"
   ]
  },
  {
   "cell_type": "code",
   "execution_count": 107,
   "id": "424fe769-eb7b-46b9-a9ee-09eed3657ea3",
   "metadata": {},
   "outputs": [
    {
     "data": {
      "text/plain": [
       "9"
      ]
     },
     "execution_count": 107,
     "metadata": {},
     "output_type": "execute_result"
    }
   ],
   "source": [
    "string = 'hiii how are you and'\n",
    "string.index('a')"
   ]
  },
  {
   "cell_type": "code",
   "execution_count": 111,
   "id": "f2701236-70ad-4ec3-8fd4-e963e76a78e3",
   "metadata": {},
   "outputs": [
    {
     "data": {
      "text/plain": [
       "17"
      ]
     },
     "execution_count": 111,
     "metadata": {},
     "output_type": "execute_result"
    }
   ],
   "source": [
    "string.index('a',10)  #it means you are searching from next index after 'a'"
   ]
  },
  {
   "cell_type": "code",
   "execution_count": 115,
   "id": "21c21145-1a6a-4c6d-a649-db3ce4605f57",
   "metadata": {},
   "outputs": [
    {
     "name": "stdout",
     "output_type": "stream",
     "text": [
      "1 5 9 13 17\n"
     ]
    }
   ],
   "source": [
    "string = 'hai hai hai hai hai'\n",
    "i1 = string.index('a')\n",
    "i2 = string.index('a',i1+1)\n",
    "i3 = string.index('a',i2+1)\n",
    "i4 = string.index('a',i3+1)\n",
    "i5 = string.index('a',i4+1)\n",
    "print(i1,i2,i3,i4,i5)"
   ]
  },
  {
   "cell_type": "code",
   "execution_count": 38,
   "id": "e1dc070d-78a3-4885-9b20-e6eab12e2a62",
   "metadata": {},
   "outputs": [
    {
     "data": {
      "text/plain": [
       "4"
      ]
     },
     "execution_count": 38,
     "metadata": {},
     "output_type": "execute_result"
    }
   ],
   "source": [
    "string1 =\"python is good\"\n",
    "string1.find('o')"
   ]
  },
  {
   "cell_type": "markdown",
   "id": "c31d7352-b12f-4a20-91e1-4c485202aa25",
   "metadata": {},
   "source": [
    "**strip**"
   ]
  },
  {
   "cell_type": "code",
   "execution_count": 12,
   "id": "a0d396bd-8545-4753-b258-5c888057d017",
   "metadata": {},
   "outputs": [
    {
     "data": {
      "text/plain": [
       "'hello how are you'"
      ]
     },
     "execution_count": 12,
     "metadata": {},
     "output_type": "execute_result"
    }
   ],
   "source": [
    "str1 = \"  hello how are you  \"\n",
    "str1.strip()                  #remove the spaces on the both sides"
   ]
  },
  {
   "cell_type": "code",
   "execution_count": 10,
   "id": "e9e5037c-ed38-41dc-bc88-218d3cb5488c",
   "metadata": {},
   "outputs": [
    {
     "data": {
      "text/plain": [
       "'hello world'"
      ]
     },
     "execution_count": 10,
     "metadata": {},
     "output_type": "execute_result"
    }
   ],
   "source": [
    "str2 = \"  hello world\"\n",
    "str2.lstrip()       #remove spaces on the left side"
   ]
  },
  {
   "cell_type": "code",
   "execution_count": 8,
   "id": "e0a1009f-6c57-48ee-8cde-69b41314fb79",
   "metadata": {},
   "outputs": [
    {
     "data": {
      "text/plain": [
       "'hello world'"
      ]
     },
     "execution_count": 8,
     "metadata": {},
     "output_type": "execute_result"
    }
   ],
   "source": [
    "str3 = \"hello world  \"\n",
    "str3.rstrip()       #remove spaces on thr right side"
   ]
  },
  {
   "cell_type": "code",
   "execution_count": 30,
   "id": "245f6b61-f8d1-4151-8c4e-bfb023c0588f",
   "metadata": {},
   "outputs": [
    {
     "name": "stdout",
     "output_type": "stream",
     "text": [
      "first name is : hiii\n",
      "second name is : hello\n",
      "the company is : welcome\n"
     ]
    }
   ],
   "source": [
    "string = 'hiii.hello@welcome.com'\n",
    "name = string.index('.')\n",
    "name2 = string.index('@',string.index('.')+1)\n",
    "comp = string.index('.',string.index('@',string.index('.')+1)+1)\n",
    "print(\"first name is :\",string[:name])\n",
    "print(\"second name is :\",string[name+1:name2])\n",
    "print(\"the company is :\",string[name2+1:comp])"
   ]
  },
  {
   "cell_type": "code",
   "execution_count": 42,
   "id": "7f15c2f1-2dd8-4a87-b476-15cfae2a2b27",
   "metadata": {},
   "outputs": [
    {
     "name": "stdin",
     "output_type": "stream",
     "text": [
      "enter your mail id : virat.kohli@bcci.com\n"
     ]
    },
    {
     "name": "stdout",
     "output_type": "stream",
     "text": [
      "first name is : virat\n",
      "second name is : kohli\n",
      "the company is : bcci\n"
     ]
    }
   ],
   "source": [
    "#this is an optimal code\n",
    "\n",
    "string = input(\"enter your mail id :\")\n",
    "name = string.index('.')\n",
    "name2 = string.index('@',name+1)\n",
    "comp = string.index('.',name2+1)\n",
    "print(\"first name is :\",string[:name])\n",
    "print(\"second name is :\",string[name+1:name2])\n",
    "print(\"the company is :\",string[name2+1:comp])"
   ]
  },
  {
   "cell_type": "code",
   "execution_count": 7,
   "id": "c6a40ef0-aa8f-4e80-bbd8-e0ee050e2e13",
   "metadata": {},
   "outputs": [
    {
     "name": "stdout",
     "output_type": "stream",
     "text": [
      "number is : 3 \n",
      "the decimal is : 1489\n"
     ]
    }
   ],
   "source": [
    "str1 = \"3.1489\"\n",
    "num = str1.index('.')\n",
    "print('number is :',str1[:num],'\\nthe decimal is :',str1[num+1:])"
   ]
  },
  {
   "cell_type": "markdown",
   "id": "36da3db9-20a5-4bc5-bd4d-fa81aa389315",
   "metadata": {},
   "source": [
    "**starts with and ends with**"
   ]
  },
  {
   "cell_type": "code",
   "execution_count": 20,
   "id": "e28a0a60-8798-4834-b720-710fba27ca69",
   "metadata": {},
   "outputs": [
    {
     "data": {
      "text/plain": [
       "True"
      ]
     },
     "execution_count": 20,
     "metadata": {},
     "output_type": "execute_result"
    }
   ],
   "source": [
    "import string\n",
    "string = 'hii how are you'\n",
    "string.startswith('hii')"
   ]
  },
  {
   "cell_type": "code",
   "execution_count": 22,
   "id": "7a609382-0e6c-48bf-b601-3aca3e24a032",
   "metadata": {},
   "outputs": [
    {
     "data": {
      "text/plain": [
       "True"
      ]
     },
     "execution_count": 22,
     "metadata": {},
     "output_type": "execute_result"
    }
   ],
   "source": [
    "string.endswith('you')"
   ]
  },
  {
   "cell_type": "code",
   "execution_count": 24,
   "id": "099a5a7d-674c-4a63-9767-6c43241d6710",
   "metadata": {},
   "outputs": [
    {
     "data": {
      "text/plain": [
       "False"
      ]
     },
     "execution_count": 24,
     "metadata": {},
     "output_type": "execute_result"
    }
   ],
   "source": [
    "string.endswith('hii')"
   ]
  },
  {
   "cell_type": "code",
   "execution_count": 30,
   "id": "69e9b5c7-5a30-4d73-85a5-80707881e9c1",
   "metadata": {},
   "outputs": [
    {
     "data": {
      "text/plain": [
       "['__add__',\n",
       " '__class__',\n",
       " '__contains__',\n",
       " '__delattr__',\n",
       " '__dir__',\n",
       " '__doc__',\n",
       " '__eq__',\n",
       " '__format__',\n",
       " '__ge__',\n",
       " '__getattribute__',\n",
       " '__getitem__',\n",
       " '__getnewargs__',\n",
       " '__getstate__',\n",
       " '__gt__',\n",
       " '__hash__',\n",
       " '__init__',\n",
       " '__init_subclass__',\n",
       " '__iter__',\n",
       " '__le__',\n",
       " '__len__',\n",
       " '__lt__',\n",
       " '__mod__',\n",
       " '__mul__',\n",
       " '__ne__',\n",
       " '__new__',\n",
       " '__reduce__',\n",
       " '__reduce_ex__',\n",
       " '__repr__',\n",
       " '__rmod__',\n",
       " '__rmul__',\n",
       " '__setattr__',\n",
       " '__sizeof__',\n",
       " '__str__',\n",
       " '__subclasshook__',\n",
       " 'capitalize',\n",
       " 'casefold',\n",
       " 'center',\n",
       " 'count',\n",
       " 'encode',\n",
       " 'endswith',\n",
       " 'expandtabs',\n",
       " 'find',\n",
       " 'format',\n",
       " 'format_map',\n",
       " 'index',\n",
       " 'isalnum',\n",
       " 'isalpha',\n",
       " 'isascii',\n",
       " 'isdecimal',\n",
       " 'isdigit',\n",
       " 'isidentifier',\n",
       " 'islower',\n",
       " 'isnumeric',\n",
       " 'isprintable',\n",
       " 'isspace',\n",
       " 'istitle',\n",
       " 'isupper',\n",
       " 'join',\n",
       " 'ljust',\n",
       " 'lower',\n",
       " 'lstrip',\n",
       " 'maketrans',\n",
       " 'partition',\n",
       " 'removeprefix',\n",
       " 'removesuffix',\n",
       " 'replace',\n",
       " 'rfind',\n",
       " 'rindex',\n",
       " 'rjust',\n",
       " 'rpartition',\n",
       " 'rsplit',\n",
       " 'rstrip',\n",
       " 'split',\n",
       " 'splitlines',\n",
       " 'startswith',\n",
       " 'strip',\n",
       " 'swapcase',\n",
       " 'title',\n",
       " 'translate',\n",
       " 'upper',\n",
       " 'zfill']"
      ]
     },
     "execution_count": 30,
     "metadata": {},
     "output_type": "execute_result"
    }
   ],
   "source": [
    "dir(string)"
   ]
  },
  {
   "cell_type": "code",
   "execution_count": 32,
   "id": "37654acd-a20a-4fbd-b8a0-d5f73dd6fb9d",
   "metadata": {},
   "outputs": [
    {
     "data": {
      "text/plain": [
       "'Hii How Are You'"
      ]
     },
     "execution_count": 32,
     "metadata": {},
     "output_type": "execute_result"
    }
   ],
   "source": [
    "string.title()"
   ]
  },
  {
   "cell_type": "code",
   "execution_count": 42,
   "id": "2fbf84b3-27a6-43d5-9463-c35aecce3fb2",
   "metadata": {},
   "outputs": [
    {
     "data": {
      "text/plain": [
       "'00000hii how are you'"
      ]
     },
     "execution_count": 42,
     "metadata": {},
     "output_type": "execute_result"
    }
   ],
   "source": [
    "string.zfill(20)"
   ]
  },
  {
   "cell_type": "code",
   "execution_count": 48,
   "id": "d10405f1-9aa0-4e61-bd19-59d9e583a9bf",
   "metadata": {},
   "outputs": [
    {
     "data": {
      "text/plain": [
       "'hii how are you'"
      ]
     },
     "execution_count": 48,
     "metadata": {},
     "output_type": "execute_result"
    }
   ],
   "source": [
    "string.translate('hii')"
   ]
  },
  {
   "cell_type": "code",
   "execution_count": 52,
   "id": "bf307caf-54dd-4c03-823a-e34dcc6705f0",
   "metadata": {},
   "outputs": [
    {
     "data": {
      "text/plain": [
       "['hii', 'how', 'are', 'you']"
      ]
     },
     "execution_count": 52,
     "metadata": {},
     "output_type": "execute_result"
    }
   ],
   "source": [
    "string.split()   #it default takes the spaces"
   ]
  },
  {
   "cell_type": "code",
   "execution_count": 56,
   "id": "3bfcf58c-5aab-400f-b897-3c6e464999f8",
   "metadata": {},
   "outputs": [
    {
     "data": {
      "text/plain": [
       "['hii how ', 're you']"
      ]
     },
     "execution_count": 56,
     "metadata": {},
     "output_type": "execute_result"
    }
   ],
   "source": [
    "string.split('a')"
   ]
  },
  {
   "cell_type": "code",
   "execution_count": 62,
   "id": "7ce67f69-23f8-49d3-a278-b9c2e6649274",
   "metadata": {},
   "outputs": [
    {
     "data": {
      "text/plain": [
       "'hii how are you'"
      ]
     },
     "execution_count": 62,
     "metadata": {},
     "output_type": "execute_result"
    }
   ],
   "source": [
    "string = 'hii How Are You'\n",
    "string.casefold()"
   ]
  },
  {
   "cell_type": "code",
   "execution_count": null,
   "id": "4c870d9c-7b67-4ef9-9a53-1aab856c8d23",
   "metadata": {},
   "outputs": [],
   "source": []
  }
 ],
 "metadata": {
  "kernelspec": {
   "display_name": "Python [conda env:base] *",
   "language": "python",
   "name": "conda-base-py"
  },
  "language_info": {
   "codemirror_mode": {
    "name": "ipython",
    "version": 3
   },
   "file_extension": ".py",
   "mimetype": "text/x-python",
   "name": "python",
   "nbconvert_exporter": "python",
   "pygments_lexer": "ipython3",
   "version": "3.12.7"
  }
 },
 "nbformat": 4,
 "nbformat_minor": 5
}
