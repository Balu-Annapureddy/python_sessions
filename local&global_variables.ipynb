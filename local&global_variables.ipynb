{
 "cells": [
  {
   "cell_type": "code",
   "execution_count": 2,
   "id": "36fef2a4-ced2-4774-9498-0baf704d8aee",
   "metadata": {},
   "outputs": [
    {
     "name": "stdout",
     "output_type": "stream",
     "text": [
      "30\n"
     ]
    }
   ],
   "source": [
    "#local variables\n",
    "a =10\n",
    "def add():\n",
    "    n1 =10   #here n1 and n2 are the local variables\n",
    "    n2 =20   #because they are inside the function\n",
    "    summ = n1+n2\n",
    "    print(summ)\n",
    "add()"
   ]
  },
  {
   "cell_type": "code",
   "execution_count": 8,
   "id": "827c25a9-582e-4a50-bebc-c53e388eb0a8",
   "metadata": {},
   "outputs": [
    {
     "name": "stdout",
     "output_type": "stream",
     "text": [
      "30\n"
     ]
    }
   ],
   "source": [
    "#global variables\n",
    "a =10   #here a,b are global variables we can \n",
    "b =20   #use them even in the functions also\n",
    "def add():\n",
    "    summ = (a+b)\n",
    "    print(summ)\n",
    "\n",
    "add()"
   ]
  },
  {
   "cell_type": "code",
   "execution_count": 10,
   "id": "ef604597-d5d2-468f-931b-62645a0be924",
   "metadata": {},
   "outputs": [],
   "source": [
    "#how to convert local variable into global variable"
   ]
  },
  {
   "cell_type": "code",
   "execution_count": 12,
   "id": "b6e62654-a984-4477-a3c1-618841228ea2",
   "metadata": {},
   "outputs": [
    {
     "name": "stdout",
     "output_type": "stream",
     "text": [
      "10\n",
      "10\n"
     ]
    }
   ],
   "source": [
    "def value():\n",
    "    global num1    #we have to define it with a keyword called global \n",
    "    num1 = 10\n",
    "    print(num1)\n",
    "value()\n",
    "print(num1)"
   ]
  },
  {
   "cell_type": "code",
   "execution_count": 20,
   "id": "e6695b4e-6285-4c47-8db5-d0313b1a9995",
   "metadata": {},
   "outputs": [
    {
     "name": "stdout",
     "output_type": "stream",
     "text": [
      "sum is :  110\n",
      "1000\n"
     ]
    }
   ],
   "source": [
    "n =10\n",
    "m =20\n",
    "def add():\n",
    "    global m  #after making it global it became updated\n",
    "    m = 100\n",
    "    add = (m +n)\n",
    "    print(\"sum is : \",add)\n",
    "add()\n",
    "print(n*m)"
   ]
  },
  {
   "cell_type": "markdown",
   "id": "49ae5cba-6b9f-4ae7-bc73-e7acb966759c",
   "metadata": {},
   "source": [
    "**function in function**\n"
   ]
  },
  {
   "cell_type": "code",
   "execution_count": 25,
   "id": "adf62479-fbe4-4729-a59e-e5cedccdfe3b",
   "metadata": {},
   "outputs": [
    {
     "name": "stdout",
     "output_type": "stream",
     "text": [
      "helllo\n",
      "python\n"
     ]
    }
   ],
   "source": [
    "def greet():\n",
    "    print(\"helllo\")\n",
    "def name():\n",
    "    print(\"python\")\n",
    "\n",
    "greet()\n",
    "name()"
   ]
  },
  {
   "cell_type": "code",
   "execution_count": 29,
   "id": "70290903-27cc-43e3-b68c-f69a03e13825",
   "metadata": {},
   "outputs": [
    {
     "name": "stdout",
     "output_type": "stream",
     "text": [
      "python\n",
      "helllo\n"
     ]
    }
   ],
   "source": [
    "def greet():\n",
    "    print(\"helllo\")\n",
    "def name():\n",
    "    print(\"python\")\n",
    "    greet()   #the outputs reversed like we first called name then greet\n",
    "name()"
   ]
  },
  {
   "cell_type": "code",
   "execution_count": 47,
   "id": "077f74b2-1be6-435e-9580-2840b0eab96f",
   "metadata": {},
   "outputs": [
    {
     "name": "stdout",
     "output_type": "stream",
     "text": [
      "CALCULATOR \n",
      " enter a value to perform a operation\n"
     ]
    },
    {
     "name": "stdin",
     "output_type": "stream",
     "text": [
      "1.Addition \n",
      "2.Subtraction \n",
      "3.Multiplication \n",
      "4.DIvision \n",
      " 4\n",
      "enter a value :  4\n",
      "enter b value :  4\n"
     ]
    },
    {
     "name": "stdout",
     "output_type": "stream",
     "text": [
      "1.0\n"
     ]
    }
   ],
   "source": [
    "print(\"CALCULATOR \\n enter a value to perform a operation\")\n",
    "fun = int(input(\"1.Addition \\n2.Subtraction \\n3.Multiplication \\n4.DIvision \\n\"))\n",
    "a = int(input(\"enter a value : \"))\n",
    "b = int(input(\"enter b value : \"))\n",
    "def add(a,b):\n",
    "    summ = a+b\n",
    "    print(summ)\n",
    "def sub(a,b):\n",
    "    sub = a-b\n",
    "    print(sub)\n",
    "def mul(a,b):\n",
    "    mul = a*b\n",
    "    print(mul)\n",
    "def div(a,b):\n",
    "    div = a/b\n",
    "    print(round(div,2))\n",
    "if fun ==1:\n",
    "    add(a,b)\n",
    "elif fun==2:\n",
    "    sub(a,b)\n",
    "elif fun==3:\n",
    "    mul(a,b)\n",
    "elif fun==4:\n",
    "    div(a,b)\n",
    "else:\n",
    "    print(\"Invalid input \\n refresh and start again\")"
   ]
  },
  {
   "cell_type": "code",
   "execution_count": null,
   "id": "8b406930-1504-4fa1-b324-a21cbdbbb0f8",
   "metadata": {},
   "outputs": [],
   "source": []
  },
  {
   "cell_type": "code",
   "execution_count": null,
   "id": "04bf12e4-b7c3-4a3e-b7b3-9a794760d898",
   "metadata": {},
   "outputs": [],
   "source": []
  },
  {
   "cell_type": "code",
   "execution_count": null,
   "id": "33d62535-0f1a-495e-b6b6-fd2cf9a1e9d7",
   "metadata": {},
   "outputs": [],
   "source": []
  }
 ],
 "metadata": {
  "kernelspec": {
   "display_name": "Python [conda env:base] *",
   "language": "python",
   "name": "conda-base-py"
  },
  "language_info": {
   "codemirror_mode": {
    "name": "ipython",
    "version": 3
   },
   "file_extension": ".py",
   "mimetype": "text/x-python",
   "name": "python",
   "nbconvert_exporter": "python",
   "pygments_lexer": "ipython3",
   "version": "3.12.7"
  }
 },
 "nbformat": 4,
 "nbformat_minor": 5
}
